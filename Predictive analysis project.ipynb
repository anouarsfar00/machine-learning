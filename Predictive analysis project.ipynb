{
 "cells": [
  {
   "cell_type": "markdown",
   "id": "4936f562",
   "metadata": {},
   "source": [
    "# Predictive analysis project"
   ]
  },
  {
   "cell_type": "markdown",
   "id": "46fb6a05",
   "metadata": {},
   "source": [
    "# 1. Data preprocessing and exploration"
   ]
  },
  {
   "cell_type": "markdown",
   "id": "2b41c1d7",
   "metadata": {},
   "source": [
    "## Import libraries"
   ]
  },
  {
   "cell_type": "code",
   "execution_count": 37,
   "id": "ac965307",
   "metadata": {},
   "outputs": [],
   "source": [
    "import pandas as pd\n",
    "import numpy as np\n",
    "import matplotlib.pyplot as plt\n",
    "import seaborn as sns"
   ]
  },
  {
   "cell_type": "code",
   "execution_count": 38,
   "id": "de23a22f",
   "metadata": {},
   "outputs": [
    {
     "name": "stderr",
     "output_type": "stream",
     "text": [
      "C:\\Users\\anoua\\anaconda3\\lib\\site-packages\\openpyxl\\worksheet\\_read_only.py:79: UserWarning: Unknown extension is not supported and will be removed\n",
      "  for idx, row in parser.parse():\n",
      "C:\\Users\\anoua\\anaconda3\\lib\\site-packages\\openpyxl\\worksheet\\_read_only.py:79: UserWarning: Conditional Formatting extension is not supported and will be removed\n",
      "  for idx, row in parser.parse():\n"
     ]
    }
   ],
   "source": [
    "dataset = pd.read_excel(\"C:/Users/anoua/Downloads/CreditBank.xlsx\")"
   ]
  },
  {
   "cell_type": "code",
   "execution_count": 39,
   "id": "903ddcb6",
   "metadata": {},
   "outputs": [
    {
     "data": {
      "text/html": [
       "<div>\n",
       "<style scoped>\n",
       "    .dataframe tbody tr th:only-of-type {\n",
       "        vertical-align: middle;\n",
       "    }\n",
       "\n",
       "    .dataframe tbody tr th {\n",
       "        vertical-align: top;\n",
       "    }\n",
       "\n",
       "    .dataframe thead th {\n",
       "        text-align: right;\n",
       "    }\n",
       "</style>\n",
       "<table border=\"1\" class=\"dataframe\">\n",
       "  <thead>\n",
       "    <tr style=\"text-align: right;\">\n",
       "      <th></th>\n",
       "      <th>revenuAnnuel</th>\n",
       "      <th>autreRevenu</th>\n",
       "      <th>salaire</th>\n",
       "      <th>age</th>\n",
       "      <th>anneeTravaillee</th>\n",
       "      <th>nbDernierCreditRefuse</th>\n",
       "      <th>nbDernierCreditQccepte</th>\n",
       "      <th>PersonnesEnCharge</th>\n",
       "      <th>RevenuNetMoyen</th>\n",
       "      <th>nbVoitures</th>\n",
       "      <th>catgSocialePro</th>\n",
       "      <th>statutSocial</th>\n",
       "      <th>Residence</th>\n",
       "      <th>secteurTravail</th>\n",
       "      <th>Decision</th>\n",
       "    </tr>\n",
       "  </thead>\n",
       "  <tbody>\n",
       "    <tr>\n",
       "      <th>0</th>\n",
       "      <td>29921.0</td>\n",
       "      <td>0</td>\n",
       "      <td>2493.416667</td>\n",
       "      <td>51.0</td>\n",
       "      <td>10.0</td>\n",
       "      <td>0.0</td>\n",
       "      <td>1.0</td>\n",
       "      <td>1.0</td>\n",
       "      <td>831.138889</td>\n",
       "      <td>2</td>\n",
       "      <td>Titular</td>\n",
       "      <td>Single</td>\n",
       "      <td>House Owner</td>\n",
       "      <td>Others</td>\n",
       "      <td>Accepted</td>\n",
       "    </tr>\n",
       "    <tr>\n",
       "      <th>1</th>\n",
       "      <td>22912.0</td>\n",
       "      <td>530</td>\n",
       "      <td>1379.333333</td>\n",
       "      <td>32.0</td>\n",
       "      <td>5.0</td>\n",
       "      <td>3.0</td>\n",
       "      <td>2.0</td>\n",
       "      <td>1.0</td>\n",
       "      <td>636.444444</td>\n",
       "      <td>1</td>\n",
       "      <td>Titular</td>\n",
       "      <td>Single</td>\n",
       "      <td>Living with parents</td>\n",
       "      <td>Developpement</td>\n",
       "      <td>Accepted</td>\n",
       "    </tr>\n",
       "    <tr>\n",
       "      <th>2</th>\n",
       "      <td>15780.0</td>\n",
       "      <td>0</td>\n",
       "      <td>1315.000000</td>\n",
       "      <td>30.0</td>\n",
       "      <td>5.0</td>\n",
       "      <td>3.0</td>\n",
       "      <td>0.0</td>\n",
       "      <td>2.0</td>\n",
       "      <td>438.333333</td>\n",
       "      <td>0</td>\n",
       "      <td>Titular</td>\n",
       "      <td>Single</td>\n",
       "      <td>Living with parents</td>\n",
       "      <td>Agriculture</td>\n",
       "      <td>Refused</td>\n",
       "    </tr>\n",
       "    <tr>\n",
       "      <th>3</th>\n",
       "      <td>31293.0</td>\n",
       "      <td>848</td>\n",
       "      <td>1759.750000</td>\n",
       "      <td>29.0</td>\n",
       "      <td>5.0</td>\n",
       "      <td>2.0</td>\n",
       "      <td>2.0</td>\n",
       "      <td>0.0</td>\n",
       "      <td>869.250000</td>\n",
       "      <td>1</td>\n",
       "      <td>Contractual</td>\n",
       "      <td>Single</td>\n",
       "      <td>Living with parents</td>\n",
       "      <td>Others</td>\n",
       "      <td>Accepted</td>\n",
       "    </tr>\n",
       "    <tr>\n",
       "      <th>4</th>\n",
       "      <td>14312.0</td>\n",
       "      <td>0</td>\n",
       "      <td>1192.666667</td>\n",
       "      <td>36.0</td>\n",
       "      <td>10.0</td>\n",
       "      <td>2.0</td>\n",
       "      <td>2.0</td>\n",
       "      <td>2.0</td>\n",
       "      <td>397.555556</td>\n",
       "      <td>1</td>\n",
       "      <td>Titular</td>\n",
       "      <td>Single</td>\n",
       "      <td>House Owner</td>\n",
       "      <td>Handwork</td>\n",
       "      <td>Tolerated</td>\n",
       "    </tr>\n",
       "  </tbody>\n",
       "</table>\n",
       "</div>"
      ],
      "text/plain": [
       "   revenuAnnuel  autreRevenu      salaire   age  anneeTravaillee  \\\n",
       "0       29921.0            0  2493.416667  51.0             10.0   \n",
       "1       22912.0          530  1379.333333  32.0              5.0   \n",
       "2       15780.0            0  1315.000000  30.0              5.0   \n",
       "3       31293.0          848  1759.750000  29.0              5.0   \n",
       "4       14312.0            0  1192.666667  36.0             10.0   \n",
       "\n",
       "   nbDernierCreditRefuse  nbDernierCreditQccepte  PersonnesEnCharge  \\\n",
       "0                    0.0                     1.0                1.0   \n",
       "1                    3.0                     2.0                1.0   \n",
       "2                    3.0                     0.0                2.0   \n",
       "3                    2.0                     2.0                0.0   \n",
       "4                    2.0                     2.0                2.0   \n",
       "\n",
       "   RevenuNetMoyen  nbVoitures catgSocialePro statutSocial  \\\n",
       "0      831.138889           2        Titular       Single   \n",
       "1      636.444444           1        Titular       Single   \n",
       "2      438.333333           0        Titular       Single   \n",
       "3      869.250000           1    Contractual       Single   \n",
       "4      397.555556           1        Titular       Single   \n",
       "\n",
       "             Residence secteurTravail   Decision  \n",
       "0          House Owner         Others   Accepted  \n",
       "1  Living with parents  Developpement   Accepted  \n",
       "2  Living with parents    Agriculture    Refused  \n",
       "3  Living with parents         Others   Accepted  \n",
       "4          House Owner       Handwork  Tolerated  "
      ]
     },
     "execution_count": 39,
     "metadata": {},
     "output_type": "execute_result"
    }
   ],
   "source": [
    "dataset.head()"
   ]
  },
  {
   "cell_type": "code",
   "execution_count": 40,
   "id": "c10452b8",
   "metadata": {},
   "outputs": [
    {
     "data": {
      "text/plain": [
       "(172, 15)"
      ]
     },
     "execution_count": 40,
     "metadata": {},
     "output_type": "execute_result"
    }
   ],
   "source": [
    "dataset.shape"
   ]
  },
  {
   "cell_type": "code",
   "execution_count": 41,
   "id": "9e6d277d",
   "metadata": {},
   "outputs": [
    {
     "data": {
      "text/html": [
       "<div>\n",
       "<style scoped>\n",
       "    .dataframe tbody tr th:only-of-type {\n",
       "        vertical-align: middle;\n",
       "    }\n",
       "\n",
       "    .dataframe tbody tr th {\n",
       "        vertical-align: top;\n",
       "    }\n",
       "\n",
       "    .dataframe thead th {\n",
       "        text-align: right;\n",
       "    }\n",
       "</style>\n",
       "<table border=\"1\" class=\"dataframe\">\n",
       "  <thead>\n",
       "    <tr style=\"text-align: right;\">\n",
       "      <th></th>\n",
       "      <th>revenuAnnuel</th>\n",
       "      <th>autreRevenu</th>\n",
       "      <th>salaire</th>\n",
       "      <th>age</th>\n",
       "      <th>anneeTravaillee</th>\n",
       "      <th>nbDernierCreditRefuse</th>\n",
       "      <th>nbDernierCreditQccepte</th>\n",
       "      <th>PersonnesEnCharge</th>\n",
       "      <th>RevenuNetMoyen</th>\n",
       "      <th>nbVoitures</th>\n",
       "      <th>catgSocialePro</th>\n",
       "      <th>statutSocial</th>\n",
       "      <th>Residence</th>\n",
       "      <th>secteurTravail</th>\n",
       "      <th>Decision</th>\n",
       "    </tr>\n",
       "  </thead>\n",
       "  <tbody>\n",
       "    <tr>\n",
       "      <th>167</th>\n",
       "      <td>9807.0</td>\n",
       "      <td>0</td>\n",
       "      <td>817.250000</td>\n",
       "      <td>62.0</td>\n",
       "      <td>20.0</td>\n",
       "      <td>1.0</td>\n",
       "      <td>2.0</td>\n",
       "      <td>2.0</td>\n",
       "      <td>272.416667</td>\n",
       "      <td>1</td>\n",
       "      <td>Retired</td>\n",
       "      <td>Married</td>\n",
       "      <td>Float Owner</td>\n",
       "      <td>Education</td>\n",
       "      <td>Refused</td>\n",
       "    </tr>\n",
       "    <tr>\n",
       "      <th>168</th>\n",
       "      <td>15682.0</td>\n",
       "      <td>0</td>\n",
       "      <td>1306.833333</td>\n",
       "      <td>22.0</td>\n",
       "      <td>2.0</td>\n",
       "      <td>4.0</td>\n",
       "      <td>2.0</td>\n",
       "      <td>1.0</td>\n",
       "      <td>435.611111</td>\n",
       "      <td>0</td>\n",
       "      <td>Contractual</td>\n",
       "      <td>Single</td>\n",
       "      <td>Living with parents</td>\n",
       "      <td>Developpement</td>\n",
       "      <td>Refused</td>\n",
       "    </tr>\n",
       "    <tr>\n",
       "      <th>169</th>\n",
       "      <td>9122.0</td>\n",
       "      <td>0</td>\n",
       "      <td>760.166667</td>\n",
       "      <td>25.0</td>\n",
       "      <td>2.0</td>\n",
       "      <td>3.0</td>\n",
       "      <td>0.0</td>\n",
       "      <td>3.0</td>\n",
       "      <td>253.388889</td>\n",
       "      <td>0</td>\n",
       "      <td>Contractual</td>\n",
       "      <td>Single</td>\n",
       "      <td>House Owner</td>\n",
       "      <td>Telecommunication</td>\n",
       "      <td>Refused</td>\n",
       "    </tr>\n",
       "    <tr>\n",
       "      <th>170</th>\n",
       "      <td>9703.0</td>\n",
       "      <td>0</td>\n",
       "      <td>808.583333</td>\n",
       "      <td>31.0</td>\n",
       "      <td>5.0</td>\n",
       "      <td>2.0</td>\n",
       "      <td>1.0</td>\n",
       "      <td>1.0</td>\n",
       "      <td>269.527778</td>\n",
       "      <td>1</td>\n",
       "      <td>Titular</td>\n",
       "      <td>Single</td>\n",
       "      <td>Living with parents</td>\n",
       "      <td>Commerce</td>\n",
       "      <td>Refused</td>\n",
       "    </tr>\n",
       "    <tr>\n",
       "      <th>171</th>\n",
       "      <td>17936.0</td>\n",
       "      <td>0</td>\n",
       "      <td>1494.666667</td>\n",
       "      <td>45.0</td>\n",
       "      <td>2.0</td>\n",
       "      <td>1.0</td>\n",
       "      <td>0.0</td>\n",
       "      <td>2.0</td>\n",
       "      <td>498.222222</td>\n",
       "      <td>1</td>\n",
       "      <td>Contractual</td>\n",
       "      <td>Married</td>\n",
       "      <td>House Owner</td>\n",
       "      <td>Public Services</td>\n",
       "      <td>Refused</td>\n",
       "    </tr>\n",
       "  </tbody>\n",
       "</table>\n",
       "</div>"
      ],
      "text/plain": [
       "     revenuAnnuel  autreRevenu      salaire   age  anneeTravaillee  \\\n",
       "167        9807.0            0   817.250000  62.0             20.0   \n",
       "168       15682.0            0  1306.833333  22.0              2.0   \n",
       "169        9122.0            0   760.166667  25.0              2.0   \n",
       "170        9703.0            0   808.583333  31.0              5.0   \n",
       "171       17936.0            0  1494.666667  45.0              2.0   \n",
       "\n",
       "     nbDernierCreditRefuse  nbDernierCreditQccepte  PersonnesEnCharge  \\\n",
       "167                    1.0                     2.0                2.0   \n",
       "168                    4.0                     2.0                1.0   \n",
       "169                    3.0                     0.0                3.0   \n",
       "170                    2.0                     1.0                1.0   \n",
       "171                    1.0                     0.0                2.0   \n",
       "\n",
       "     RevenuNetMoyen  nbVoitures catgSocialePro statutSocial  \\\n",
       "167      272.416667           1        Retired      Married   \n",
       "168      435.611111           0    Contractual       Single   \n",
       "169      253.388889           0    Contractual       Single   \n",
       "170      269.527778           1        Titular       Single   \n",
       "171      498.222222           1    Contractual      Married   \n",
       "\n",
       "               Residence     secteurTravail Decision  \n",
       "167          Float Owner          Education  Refused  \n",
       "168  Living with parents      Developpement  Refused  \n",
       "169          House Owner  Telecommunication  Refused  \n",
       "170  Living with parents           Commerce  Refused  \n",
       "171          House Owner    Public Services  Refused  "
      ]
     },
     "execution_count": 41,
     "metadata": {},
     "output_type": "execute_result"
    }
   ],
   "source": [
    "dataset.tail()"
   ]
  },
  {
   "cell_type": "code",
   "execution_count": 42,
   "id": "f47c54c9",
   "metadata": {},
   "outputs": [
    {
     "name": "stdout",
     "output_type": "stream",
     "text": [
      "<class 'pandas.core.frame.DataFrame'>\n",
      "RangeIndex: 172 entries, 0 to 171\n",
      "Data columns (total 15 columns):\n",
      " #   Column                  Non-Null Count  Dtype  \n",
      "---  ------                  --------------  -----  \n",
      " 0   revenuAnnuel            172 non-null    float64\n",
      " 1   autreRevenu             172 non-null    int64  \n",
      " 2   salaire                 171 non-null    float64\n",
      " 3   age                     171 non-null    float64\n",
      " 4   anneeTravaillee         171 non-null    float64\n",
      " 5   nbDernierCreditRefuse   171 non-null    float64\n",
      " 6   nbDernierCreditQccepte  171 non-null    float64\n",
      " 7   PersonnesEnCharge       170 non-null    float64\n",
      " 8   RevenuNetMoyen          171 non-null    float64\n",
      " 9   nbVoitures              172 non-null    int64  \n",
      " 10  catgSocialePro          171 non-null    object \n",
      " 11  statutSocial            169 non-null    object \n",
      " 12  Residence               170 non-null    object \n",
      " 13  secteurTravail          170 non-null    object \n",
      " 14  Decision                172 non-null    object \n",
      "dtypes: float64(8), int64(2), object(5)\n",
      "memory usage: 20.3+ KB\n"
     ]
    }
   ],
   "source": [
    "dataset.info()"
   ]
  },
  {
   "cell_type": "code",
   "execution_count": 43,
   "id": "c2016410",
   "metadata": {},
   "outputs": [
    {
     "data": {
      "text/plain": [
       "revenuAnnuel              0\n",
       "autreRevenu               0\n",
       "salaire                   1\n",
       "age                       1\n",
       "anneeTravaillee           1\n",
       "nbDernierCreditRefuse     1\n",
       "nbDernierCreditQccepte    1\n",
       "PersonnesEnCharge         2\n",
       "RevenuNetMoyen            1\n",
       "nbVoitures                0\n",
       "catgSocialePro            1\n",
       "statutSocial              3\n",
       "Residence                 2\n",
       "secteurTravail            2\n",
       "Decision                  0\n",
       "dtype: int64"
      ]
     },
     "execution_count": 43,
     "metadata": {},
     "output_type": "execute_result"
    }
   ],
   "source": [
    "dataset.isnull().sum()"
   ]
  },
  {
   "cell_type": "code",
   "execution_count": 44,
   "id": "9a0274f4",
   "metadata": {},
   "outputs": [
    {
     "data": {
      "text/html": [
       "<div>\n",
       "<style scoped>\n",
       "    .dataframe tbody tr th:only-of-type {\n",
       "        vertical-align: middle;\n",
       "    }\n",
       "\n",
       "    .dataframe tbody tr th {\n",
       "        vertical-align: top;\n",
       "    }\n",
       "\n",
       "    .dataframe thead th {\n",
       "        text-align: right;\n",
       "    }\n",
       "</style>\n",
       "<table border=\"1\" class=\"dataframe\">\n",
       "  <thead>\n",
       "    <tr style=\"text-align: right;\">\n",
       "      <th></th>\n",
       "      <th>revenuAnnuel</th>\n",
       "      <th>autreRevenu</th>\n",
       "      <th>salaire</th>\n",
       "      <th>age</th>\n",
       "      <th>anneeTravaillee</th>\n",
       "      <th>nbDernierCreditRefuse</th>\n",
       "      <th>nbDernierCreditQccepte</th>\n",
       "      <th>PersonnesEnCharge</th>\n",
       "      <th>RevenuNetMoyen</th>\n",
       "      <th>nbVoitures</th>\n",
       "    </tr>\n",
       "  </thead>\n",
       "  <tbody>\n",
       "    <tr>\n",
       "      <th>count</th>\n",
       "      <td>172.000000</td>\n",
       "      <td>172.000000</td>\n",
       "      <td>171.000000</td>\n",
       "      <td>171.000000</td>\n",
       "      <td>171.000000</td>\n",
       "      <td>171.000000</td>\n",
       "      <td>171.000000</td>\n",
       "      <td>170.000000</td>\n",
       "      <td>171.000000</td>\n",
       "      <td>172.000000</td>\n",
       "    </tr>\n",
       "    <tr>\n",
       "      <th>mean</th>\n",
       "      <td>19074.761628</td>\n",
       "      <td>84.581395</td>\n",
       "      <td>1513.783138</td>\n",
       "      <td>42.192982</td>\n",
       "      <td>6.321637</td>\n",
       "      <td>2.122807</td>\n",
       "      <td>1.040936</td>\n",
       "      <td>1.858824</td>\n",
       "      <td>530.568389</td>\n",
       "      <td>1.052326</td>\n",
       "    </tr>\n",
       "    <tr>\n",
       "      <th>std</th>\n",
       "      <td>6915.620548</td>\n",
       "      <td>214.930968</td>\n",
       "      <td>511.367373</td>\n",
       "      <td>14.823001</td>\n",
       "      <td>5.414202</td>\n",
       "      <td>1.329354</td>\n",
       "      <td>0.814261</td>\n",
       "      <td>1.360064</td>\n",
       "      <td>192.435776</td>\n",
       "      <td>0.668983</td>\n",
       "    </tr>\n",
       "    <tr>\n",
       "      <th>min</th>\n",
       "      <td>0.000000</td>\n",
       "      <td>0.000000</td>\n",
       "      <td>701.500000</td>\n",
       "      <td>20.000000</td>\n",
       "      <td>1.000000</td>\n",
       "      <td>0.000000</td>\n",
       "      <td>0.000000</td>\n",
       "      <td>0.000000</td>\n",
       "      <td>0.000000</td>\n",
       "      <td>0.000000</td>\n",
       "    </tr>\n",
       "    <tr>\n",
       "      <th>25%</th>\n",
       "      <td>13953.000000</td>\n",
       "      <td>0.000000</td>\n",
       "      <td>1087.166667</td>\n",
       "      <td>29.500000</td>\n",
       "      <td>2.000000</td>\n",
       "      <td>1.000000</td>\n",
       "      <td>0.000000</td>\n",
       "      <td>1.000000</td>\n",
       "      <td>384.027778</td>\n",
       "      <td>1.000000</td>\n",
       "    </tr>\n",
       "    <tr>\n",
       "      <th>50%</th>\n",
       "      <td>17984.500000</td>\n",
       "      <td>0.000000</td>\n",
       "      <td>1478.083333</td>\n",
       "      <td>41.000000</td>\n",
       "      <td>5.000000</td>\n",
       "      <td>2.000000</td>\n",
       "      <td>1.000000</td>\n",
       "      <td>2.000000</td>\n",
       "      <td>500.916667</td>\n",
       "      <td>1.000000</td>\n",
       "    </tr>\n",
       "    <tr>\n",
       "      <th>75%</th>\n",
       "      <td>25091.500000</td>\n",
       "      <td>0.000000</td>\n",
       "      <td>1956.666667</td>\n",
       "      <td>53.500000</td>\n",
       "      <td>10.000000</td>\n",
       "      <td>3.000000</td>\n",
       "      <td>2.000000</td>\n",
       "      <td>3.000000</td>\n",
       "      <td>698.583333</td>\n",
       "      <td>1.000000</td>\n",
       "    </tr>\n",
       "    <tr>\n",
       "      <th>max</th>\n",
       "      <td>37536.000000</td>\n",
       "      <td>871.000000</td>\n",
       "      <td>2493.416667</td>\n",
       "      <td>77.000000</td>\n",
       "      <td>20.000000</td>\n",
       "      <td>4.000000</td>\n",
       "      <td>2.000000</td>\n",
       "      <td>4.000000</td>\n",
       "      <td>1042.666667</td>\n",
       "      <td>3.000000</td>\n",
       "    </tr>\n",
       "  </tbody>\n",
       "</table>\n",
       "</div>"
      ],
      "text/plain": [
       "       revenuAnnuel  autreRevenu      salaire         age  anneeTravaillee  \\\n",
       "count    172.000000   172.000000   171.000000  171.000000       171.000000   \n",
       "mean   19074.761628    84.581395  1513.783138   42.192982         6.321637   \n",
       "std     6915.620548   214.930968   511.367373   14.823001         5.414202   \n",
       "min        0.000000     0.000000   701.500000   20.000000         1.000000   \n",
       "25%    13953.000000     0.000000  1087.166667   29.500000         2.000000   \n",
       "50%    17984.500000     0.000000  1478.083333   41.000000         5.000000   \n",
       "75%    25091.500000     0.000000  1956.666667   53.500000        10.000000   \n",
       "max    37536.000000   871.000000  2493.416667   77.000000        20.000000   \n",
       "\n",
       "       nbDernierCreditRefuse  nbDernierCreditQccepte  PersonnesEnCharge  \\\n",
       "count             171.000000              171.000000         170.000000   \n",
       "mean                2.122807                1.040936           1.858824   \n",
       "std                 1.329354                0.814261           1.360064   \n",
       "min                 0.000000                0.000000           0.000000   \n",
       "25%                 1.000000                0.000000           1.000000   \n",
       "50%                 2.000000                1.000000           2.000000   \n",
       "75%                 3.000000                2.000000           3.000000   \n",
       "max                 4.000000                2.000000           4.000000   \n",
       "\n",
       "       RevenuNetMoyen  nbVoitures  \n",
       "count      171.000000  172.000000  \n",
       "mean       530.568389    1.052326  \n",
       "std        192.435776    0.668983  \n",
       "min          0.000000    0.000000  \n",
       "25%        384.027778    1.000000  \n",
       "50%        500.916667    1.000000  \n",
       "75%        698.583333    1.000000  \n",
       "max       1042.666667    3.000000  "
      ]
     },
     "execution_count": 44,
     "metadata": {},
     "output_type": "execute_result"
    }
   ],
   "source": [
    "dataset.describe()"
   ]
  },
  {
   "cell_type": "code",
   "execution_count": 48,
   "id": "5ee742d9",
   "metadata": {},
   "outputs": [
    {
     "data": {
      "text/html": [
       "<div>\n",
       "<style scoped>\n",
       "    .dataframe tbody tr th:only-of-type {\n",
       "        vertical-align: middle;\n",
       "    }\n",
       "\n",
       "    .dataframe tbody tr th {\n",
       "        vertical-align: top;\n",
       "    }\n",
       "\n",
       "    .dataframe thead th {\n",
       "        text-align: right;\n",
       "    }\n",
       "</style>\n",
       "<table border=\"1\" class=\"dataframe\">\n",
       "  <thead>\n",
       "    <tr style=\"text-align: right;\">\n",
       "      <th></th>\n",
       "      <th>catgSocialePro</th>\n",
       "      <th>statutSocial</th>\n",
       "      <th>Residence</th>\n",
       "      <th>secteurTravail</th>\n",
       "      <th>Decision</th>\n",
       "    </tr>\n",
       "  </thead>\n",
       "  <tbody>\n",
       "    <tr>\n",
       "      <th>count</th>\n",
       "      <td>171</td>\n",
       "      <td>169</td>\n",
       "      <td>170</td>\n",
       "      <td>170</td>\n",
       "      <td>172</td>\n",
       "    </tr>\n",
       "    <tr>\n",
       "      <th>unique</th>\n",
       "      <td>3</td>\n",
       "      <td>2</td>\n",
       "      <td>3</td>\n",
       "      <td>9</td>\n",
       "      <td>3</td>\n",
       "    </tr>\n",
       "    <tr>\n",
       "      <th>top</th>\n",
       "      <td>Titular</td>\n",
       "      <td>Single</td>\n",
       "      <td>House Owner</td>\n",
       "      <td>Education</td>\n",
       "      <td>Refused</td>\n",
       "    </tr>\n",
       "    <tr>\n",
       "      <th>freq</th>\n",
       "      <td>100</td>\n",
       "      <td>93</td>\n",
       "      <td>82</td>\n",
       "      <td>27</td>\n",
       "      <td>84</td>\n",
       "    </tr>\n",
       "  </tbody>\n",
       "</table>\n",
       "</div>"
      ],
      "text/plain": [
       "       catgSocialePro statutSocial    Residence secteurTravail Decision\n",
       "count             171          169          170            170      172\n",
       "unique              3            2            3              9        3\n",
       "top           Titular       Single  House Owner      Education  Refused\n",
       "freq              100           93           82             27       84"
      ]
     },
     "execution_count": 48,
     "metadata": {},
     "output_type": "execute_result"
    }
   ],
   "source": [
    "dataset.describe(include=['object'])"
   ]
  },
  {
   "cell_type": "code",
   "execution_count": 49,
   "id": "151c872c",
   "metadata": {},
   "outputs": [
    {
     "data": {
      "text/plain": [
       "array(['House Owner', 'Living with parents', 'Float Owner', nan],\n",
       "      dtype=object)"
      ]
     },
     "execution_count": 49,
     "metadata": {},
     "output_type": "execute_result"
    }
   ],
   "source": [
    "dataset['Residence'].unique()"
   ]
  },
  {
   "cell_type": "code",
   "execution_count": 50,
   "id": "280acbb8",
   "metadata": {},
   "outputs": [
    {
     "data": {
      "text/plain": [
       "House Owner            82\n",
       "Float Owner            48\n",
       "Living with parents    40\n",
       "Name: Residence, dtype: int64"
      ]
     },
     "execution_count": 50,
     "metadata": {},
     "output_type": "execute_result"
    }
   ],
   "source": [
    "dataset['Residence'].value_counts()"
   ]
  },
  {
   "cell_type": "markdown",
   "id": "e6d9422e",
   "metadata": {},
   "source": [
    "## Input variables and target"
   ]
  },
  {
   "cell_type": "code",
   "execution_count": 51,
   "id": "3f6ed65f",
   "metadata": {},
   "outputs": [],
   "source": [
    "x = dataset.iloc[:,0:14]\n",
    "y = dataset.iloc[:,14]"
   ]
  },
  {
   "cell_type": "code",
   "execution_count": 52,
   "id": "41e1c46a",
   "metadata": {},
   "outputs": [
    {
     "data": {
      "text/html": [
       "<div>\n",
       "<style scoped>\n",
       "    .dataframe tbody tr th:only-of-type {\n",
       "        vertical-align: middle;\n",
       "    }\n",
       "\n",
       "    .dataframe tbody tr th {\n",
       "        vertical-align: top;\n",
       "    }\n",
       "\n",
       "    .dataframe thead th {\n",
       "        text-align: right;\n",
       "    }\n",
       "</style>\n",
       "<table border=\"1\" class=\"dataframe\">\n",
       "  <thead>\n",
       "    <tr style=\"text-align: right;\">\n",
       "      <th></th>\n",
       "      <th>revenuAnnuel</th>\n",
       "      <th>autreRevenu</th>\n",
       "      <th>salaire</th>\n",
       "      <th>age</th>\n",
       "      <th>anneeTravaillee</th>\n",
       "      <th>nbDernierCreditRefuse</th>\n",
       "      <th>nbDernierCreditQccepte</th>\n",
       "      <th>PersonnesEnCharge</th>\n",
       "      <th>RevenuNetMoyen</th>\n",
       "      <th>nbVoitures</th>\n",
       "      <th>catgSocialePro</th>\n",
       "      <th>statutSocial</th>\n",
       "      <th>Residence</th>\n",
       "      <th>secteurTravail</th>\n",
       "    </tr>\n",
       "  </thead>\n",
       "  <tbody>\n",
       "    <tr>\n",
       "      <th>0</th>\n",
       "      <td>29921.0</td>\n",
       "      <td>0</td>\n",
       "      <td>2493.416667</td>\n",
       "      <td>51.0</td>\n",
       "      <td>10.0</td>\n",
       "      <td>0.0</td>\n",
       "      <td>1.0</td>\n",
       "      <td>1.0</td>\n",
       "      <td>831.138889</td>\n",
       "      <td>2</td>\n",
       "      <td>Titular</td>\n",
       "      <td>Single</td>\n",
       "      <td>House Owner</td>\n",
       "      <td>Others</td>\n",
       "    </tr>\n",
       "    <tr>\n",
       "      <th>1</th>\n",
       "      <td>22912.0</td>\n",
       "      <td>530</td>\n",
       "      <td>1379.333333</td>\n",
       "      <td>32.0</td>\n",
       "      <td>5.0</td>\n",
       "      <td>3.0</td>\n",
       "      <td>2.0</td>\n",
       "      <td>1.0</td>\n",
       "      <td>636.444444</td>\n",
       "      <td>1</td>\n",
       "      <td>Titular</td>\n",
       "      <td>Single</td>\n",
       "      <td>Living with parents</td>\n",
       "      <td>Developpement</td>\n",
       "    </tr>\n",
       "    <tr>\n",
       "      <th>2</th>\n",
       "      <td>15780.0</td>\n",
       "      <td>0</td>\n",
       "      <td>1315.000000</td>\n",
       "      <td>30.0</td>\n",
       "      <td>5.0</td>\n",
       "      <td>3.0</td>\n",
       "      <td>0.0</td>\n",
       "      <td>2.0</td>\n",
       "      <td>438.333333</td>\n",
       "      <td>0</td>\n",
       "      <td>Titular</td>\n",
       "      <td>Single</td>\n",
       "      <td>Living with parents</td>\n",
       "      <td>Agriculture</td>\n",
       "    </tr>\n",
       "    <tr>\n",
       "      <th>3</th>\n",
       "      <td>31293.0</td>\n",
       "      <td>848</td>\n",
       "      <td>1759.750000</td>\n",
       "      <td>29.0</td>\n",
       "      <td>5.0</td>\n",
       "      <td>2.0</td>\n",
       "      <td>2.0</td>\n",
       "      <td>0.0</td>\n",
       "      <td>869.250000</td>\n",
       "      <td>1</td>\n",
       "      <td>Contractual</td>\n",
       "      <td>Single</td>\n",
       "      <td>Living with parents</td>\n",
       "      <td>Others</td>\n",
       "    </tr>\n",
       "    <tr>\n",
       "      <th>4</th>\n",
       "      <td>14312.0</td>\n",
       "      <td>0</td>\n",
       "      <td>1192.666667</td>\n",
       "      <td>36.0</td>\n",
       "      <td>10.0</td>\n",
       "      <td>2.0</td>\n",
       "      <td>2.0</td>\n",
       "      <td>2.0</td>\n",
       "      <td>397.555556</td>\n",
       "      <td>1</td>\n",
       "      <td>Titular</td>\n",
       "      <td>Single</td>\n",
       "      <td>House Owner</td>\n",
       "      <td>Handwork</td>\n",
       "    </tr>\n",
       "  </tbody>\n",
       "</table>\n",
       "</div>"
      ],
      "text/plain": [
       "   revenuAnnuel  autreRevenu      salaire   age  anneeTravaillee  \\\n",
       "0       29921.0            0  2493.416667  51.0             10.0   \n",
       "1       22912.0          530  1379.333333  32.0              5.0   \n",
       "2       15780.0            0  1315.000000  30.0              5.0   \n",
       "3       31293.0          848  1759.750000  29.0              5.0   \n",
       "4       14312.0            0  1192.666667  36.0             10.0   \n",
       "\n",
       "   nbDernierCreditRefuse  nbDernierCreditQccepte  PersonnesEnCharge  \\\n",
       "0                    0.0                     1.0                1.0   \n",
       "1                    3.0                     2.0                1.0   \n",
       "2                    3.0                     0.0                2.0   \n",
       "3                    2.0                     2.0                0.0   \n",
       "4                    2.0                     2.0                2.0   \n",
       "\n",
       "   RevenuNetMoyen  nbVoitures catgSocialePro statutSocial  \\\n",
       "0      831.138889           2        Titular       Single   \n",
       "1      636.444444           1        Titular       Single   \n",
       "2      438.333333           0        Titular       Single   \n",
       "3      869.250000           1    Contractual       Single   \n",
       "4      397.555556           1        Titular       Single   \n",
       "\n",
       "             Residence secteurTravail  \n",
       "0          House Owner         Others  \n",
       "1  Living with parents  Developpement  \n",
       "2  Living with parents    Agriculture  \n",
       "3  Living with parents         Others  \n",
       "4          House Owner       Handwork  "
      ]
     },
     "execution_count": 52,
     "metadata": {},
     "output_type": "execute_result"
    }
   ],
   "source": [
    "x.head()"
   ]
  },
  {
   "cell_type": "code",
   "execution_count": 53,
   "id": "0b339102",
   "metadata": {},
   "outputs": [
    {
     "data": {
      "text/plain": [
       "0     Accepted\n",
       "1     Accepted\n",
       "2      Refused\n",
       "3     Accepted\n",
       "4    Tolerated\n",
       "Name: Decision, dtype: object"
      ]
     },
     "execution_count": 53,
     "metadata": {},
     "output_type": "execute_result"
    }
   ],
   "source": [
    "y.head()"
   ]
  },
  {
   "cell_type": "code",
   "execution_count": 54,
   "id": "22a7f8be",
   "metadata": {},
   "outputs": [
    {
     "data": {
      "text/plain": [
       "pandas.core.frame.DataFrame"
      ]
     },
     "execution_count": 54,
     "metadata": {},
     "output_type": "execute_result"
    }
   ],
   "source": [
    "type(x)"
   ]
  },
  {
   "cell_type": "markdown",
   "id": "a1f61828",
   "metadata": {},
   "source": [
    "## convert dataframe to numpy"
   ]
  },
  {
   "cell_type": "code",
   "execution_count": 55,
   "id": "53456269",
   "metadata": {},
   "outputs": [],
   "source": [
    "x = x.values #return the numpy representation of x\n",
    "y = y.values"
   ]
  },
  {
   "cell_type": "code",
   "execution_count": 56,
   "id": "b0d01e0b",
   "metadata": {},
   "outputs": [
    {
     "data": {
      "text/plain": [
       "numpy.ndarray"
      ]
     },
     "execution_count": 56,
     "metadata": {},
     "output_type": "execute_result"
    }
   ],
   "source": [
    "type(x)"
   ]
  },
  {
   "cell_type": "code",
   "execution_count": 57,
   "id": "b2169b4f",
   "metadata": {},
   "outputs": [
    {
     "data": {
      "text/plain": [
       "dtype('O')"
      ]
     },
     "execution_count": 57,
     "metadata": {},
     "output_type": "execute_result"
    }
   ],
   "source": [
    "x.dtype"
   ]
  },
  {
   "cell_type": "code",
   "execution_count": 58,
   "id": "22fe9a31",
   "metadata": {},
   "outputs": [
    {
     "data": {
      "text/plain": [
       "array([[29921.0, 0, 2493.4166666666665, 51.0, 10.0, 0.0, 1.0, 1.0,\n",
       "        831.1388888888888, 2, 'Titular', 'Single', 'House Owner',\n",
       "        'Others'],\n",
       "       [22912.0, 530, 1379.3333333333333, 32.0, 5.0, 3.0, 2.0, 1.0,\n",
       "        636.4444444444445, 1, 'Titular', 'Single', 'Living with parents',\n",
       "        'Developpement'],\n",
       "       [15780.0, 0, 1315.0, 30.0, 5.0, 3.0, 0.0, 2.0, 438.3333333333333,\n",
       "        0, 'Titular', 'Single', 'Living with parents', 'Agriculture'],\n",
       "       [31293.0, 848, 1759.75, 29.0, 5.0, 2.0, 2.0, 0.0, 869.25, 1,\n",
       "        'Contractual', 'Single', 'Living with parents', 'Others'],\n",
       "       [14312.0, 0, 1192.6666666666667, 36.0, 10.0, 2.0, 2.0, 2.0,\n",
       "        397.5555555555556, 1, 'Titular', 'Single', 'House Owner',\n",
       "        'Handwork']], dtype=object)"
      ]
     },
     "execution_count": 58,
     "metadata": {},
     "output_type": "execute_result"
    }
   ],
   "source": [
    "x[0:5,:]"
   ]
  },
  {
   "cell_type": "markdown",
   "id": "37edbf15",
   "metadata": {},
   "source": [
    "## Encoding categorical data"
   ]
  },
  {
   "cell_type": "code",
   "execution_count": 59,
   "id": "3fa19066",
   "metadata": {},
   "outputs": [],
   "source": [
    "from sklearn.preprocessing import LabelEncoder\n",
    "label = LabelEncoder()"
   ]
  },
  {
   "cell_type": "code",
   "execution_count": 66,
   "id": "8256a7e9",
   "metadata": {},
   "outputs": [],
   "source": [
    "x[:,11] = label.fit_transform(x[:,11]) #normalisation, transform categorcal data to numerical data\n",
    "x[:,12] = label.fit_transform(x[:,12])\n",
    "x[:,13] = label.fit_transform(x[:,13])\n",
    "x[:,10] = label.fit_transform(x[:,10])"
   ]
  },
  {
   "cell_type": "code",
   "execution_count": 69,
   "id": "d3dd6ed8",
   "metadata": {},
   "outputs": [],
   "source": [
    "y = label.fit_transform(y)"
   ]
  },
  {
   "cell_type": "code",
   "execution_count": 73,
   "id": "10dcf359",
   "metadata": {},
   "outputs": [
    {
     "data": {
      "text/plain": [
       "array([0, 0, 1, 0, 2, 0, 0, 1, 1, 0, 1, 0, 1, 0, 0, 1, 1, 0, 0, 0, 0, 0,\n",
       "       1, 1, 0, 2, 2, 0, 1, 1, 2, 2, 1, 1, 0, 1, 0, 1, 1, 1, 2, 2, 2, 1,\n",
       "       1, 1, 0, 1, 1, 1, 1, 1, 1, 0, 1, 1, 0, 1, 2, 2, 0, 1, 2, 1, 1, 1,\n",
       "       2, 1, 1, 1, 1, 2, 2, 1, 2, 1, 1, 1, 0, 0, 1, 2, 2, 0, 2, 1, 0, 0,\n",
       "       1, 2, 0, 0, 0, 0, 2, 1, 1, 2, 0, 2, 1, 1, 1, 1, 1, 1, 1, 1, 0, 1,\n",
       "       2, 0, 2, 1, 2, 1, 1, 1, 1, 0, 0, 1, 1, 1, 0, 0, 0, 0, 0, 1, 1, 0,\n",
       "       2, 1, 2, 1, 2, 1, 1, 1, 1, 1, 1, 0, 2, 1, 1, 0, 2, 2, 0, 2, 1, 0,\n",
       "       0, 1, 2, 0, 0, 0, 0, 2, 1, 1, 2, 0, 2, 1, 1, 1, 1, 1])"
      ]
     },
     "execution_count": 73,
     "metadata": {},
     "output_type": "execute_result"
    }
   ],
   "source": [
    "y"
   ]
  },
  {
   "cell_type": "code",
   "execution_count": 74,
   "id": "a3a1ebd8",
   "metadata": {},
   "outputs": [
    {
     "data": {
      "text/plain": [
       "array([[29921.0, 0, 2493.4166666666665, 51.0, 10.0, 0.0, 1.0, 1.0,\n",
       "        831.1388888888888, 2, 2, 1, 1, 6],\n",
       "       [22912.0, 530, 1379.3333333333333, 32.0, 5.0, 3.0, 2.0, 1.0,\n",
       "        636.4444444444445, 1, 2, 1, 2, 2],\n",
       "       [15780.0, 0, 1315.0, 30.0, 5.0, 3.0, 0.0, 2.0, 438.3333333333333,\n",
       "        0, 2, 1, 2, 0],\n",
       "       [31293.0, 848, 1759.75, 29.0, 5.0, 2.0, 2.0, 0.0, 869.25, 1, 0, 1,\n",
       "        2, 6],\n",
       "       [14312.0, 0, 1192.6666666666667, 36.0, 10.0, 2.0, 2.0, 2.0,\n",
       "        397.5555555555556, 1, 2, 1, 1, 4],\n",
       "       [22381.0, 0, 1865.0833333333333, 49.0, 2.0, 0.0, 1.0, 3.0,\n",
       "        621.6944444444445, 2, 2, 0, 0, 8],\n",
       "       [37536.0, 760, 2368.0, 27.0, 10.0, 4.0, 1.0, 1.0,\n",
       "        1042.6666666666667, 1, 2, 1, 1, 9],\n",
       "       [14259.0, 0, 1188.25, 31.0, 5.0, 1.0, 1.0, 0.0, 396.0833333333333,\n",
       "        2, 2, 1, 1, 3],\n",
       "       [16479.0, 328, 1045.25, 60.0, 20.0, 2.0, 0.0, 1.0, 457.75, 1, 1,\n",
       "        0, 0, 2],\n",
       "       [25441.0, 0, 2120.0833333333335, 32.0, 5.0, 0.0, 1.0, 1.0,\n",
       "        706.6944444444445, 1, 0, 1, 1, 3]], dtype=object)"
      ]
     },
     "execution_count": 74,
     "metadata": {},
     "output_type": "execute_result"
    }
   ],
   "source": [
    "x[0:10,:]"
   ]
  },
  {
   "cell_type": "markdown",
   "id": "c39c8d81",
   "metadata": {},
   "source": [
    "## Splitting dataset into train and test sets"
   ]
  },
  {
   "cell_type": "code",
   "execution_count": 75,
   "id": "b2a7936c",
   "metadata": {},
   "outputs": [],
   "source": [
    "from sklearn.model_selection import train_test_split\n",
    "x_train,x_test,y_train,y_test = train_test_split(x,y,test_size=0.2, random_state =0) #0.2 est la proportion de la base de test\n",
    "#random state =0 pour fixer le choix aléatoire de la partie x_train et x_test"
   ]
  },
  {
   "cell_type": "code",
   "execution_count": 76,
   "id": "a7831dd2",
   "metadata": {},
   "outputs": [
    {
     "name": "stdout",
     "output_type": "stream",
     "text": [
      "x_train Shape= (137, 14)\n",
      "x_test Shape= (35, 14)\n",
      "y_train Shape= (137,)\n",
      "y_test Shape= (35,)\n"
     ]
    }
   ],
   "source": [
    "print ('x_train Shape=', x_train.shape) # taille de la partie x_train\n",
    "print ('x_test Shape=', x_test.shape) # taille de la partie x_test\n",
    "print ('y_train Shape=', y_train.shape) # taille de la partie y_train\n",
    "print ('y_test Shape=', y_test.shape) # taille de la partie y_test"
   ]
  },
  {
   "cell_type": "code",
   "execution_count": 77,
   "id": "c53b1965",
   "metadata": {},
   "outputs": [
    {
     "name": "stdout",
     "output_type": "stream",
     "text": [
      "taux de demandes dans toute la base:  0.9069767441860465\n",
      "taux de demandes dans toute Y_train:  0.9051094890510949\n",
      "taux de demandes dans toute Y_train:  0.9142857142857143\n"
     ]
    }
   ],
   "source": [
    "print ('taux de demandes dans toute la base: ', y.mean())\n",
    "print ('taux de demandes dans toute Y_train: ', y_train.mean())\n",
    "print ('taux de demandes dans toute Y_train: ', y_test.mean())"
   ]
  },
  {
   "cell_type": "code",
   "execution_count": 78,
   "id": "b93f8219",
   "metadata": {},
   "outputs": [
    {
     "data": {
      "text/plain": [
       "array([[18033.0, 0, 1502.75, 29.0, 2.0, 4.0, 1.0, 2.0, 500.9166666666667,\n",
       "        0, 2, 0, 1, 8],\n",
       "       [16901.0, 0, 1408.4166666666667, 50.0, 2.0, 3.0, 0.0, 3.0,\n",
       "        469.47222222222223, 0, 0, 1, 0, 5],\n",
       "       [8677.0, 0, 723.0833333333334, 66.0, 20.0, 3.0, 0.0, 1.0,\n",
       "        241.0277777777778, 1, 1, 0, 1, 3],\n",
       "       [14840.0, 0, 1236.6666666666667, 61.0, 2.0, 3.0, 1.0, 0.0,\n",
       "        412.22222222222223, 0, 2, 0, 1, 2],\n",
       "       [28728.0, 0, 2394.0, 42.0, 10.0, 0.0, 2.0, 4.0, 798.0, 1, 2, 1, 2,\n",
       "        1]], dtype=object)"
      ]
     },
     "execution_count": 78,
     "metadata": {},
     "output_type": "execute_result"
    }
   ],
   "source": [
    "x_test[0:5,:]"
   ]
  },
  {
   "cell_type": "code",
   "execution_count": null,
   "id": "2550363a",
   "metadata": {},
   "outputs": [],
   "source": []
  }
 ],
 "metadata": {
  "kernelspec": {
   "display_name": "Python 3 (ipykernel)",
   "language": "python",
   "name": "python3"
  },
  "language_info": {
   "codemirror_mode": {
    "name": "ipython",
    "version": 3
   },
   "file_extension": ".py",
   "mimetype": "text/x-python",
   "name": "python",
   "nbconvert_exporter": "python",
   "pygments_lexer": "ipython3",
   "version": "3.9.13"
  }
 },
 "nbformat": 4,
 "nbformat_minor": 5
}
