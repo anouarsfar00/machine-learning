{
 "cells": [
  {
   "cell_type": "code",
   "execution_count": 2,
   "id": "8cd15116",
   "metadata": {},
   "outputs": [],
   "source": [
    "import pandas as pd #manipuler les dataframe\n",
    "import numpy as np#manipuler des tableaux numpy\n",
    "import warnings#ingorer les warnings\n",
    "warnings.filterwarnings('ignore')"
   ]
  },
  {
   "cell_type": "markdown",
   "id": "17fb1139",
   "metadata": {},
   "source": [
    "# read dataset to pandas dataframe"
   ]
  },
  {
   "cell_type": "code",
   "execution_count": 16,
   "id": "b71830d1",
   "metadata": {},
   "outputs": [],
   "source": [
    "#read dataset\n",
    "dataset=pd.read_csv('Churn_Modelling.csv')"
   ]
  },
  {
   "cell_type": "code",
   "execution_count": 17,
   "id": "3b071981",
   "metadata": {},
   "outputs": [
    {
     "data": {
      "text/html": [
       "<div>\n",
       "<style scoped>\n",
       "    .dataframe tbody tr th:only-of-type {\n",
       "        vertical-align: middle;\n",
       "    }\n",
       "\n",
       "    .dataframe tbody tr th {\n",
       "        vertical-align: top;\n",
       "    }\n",
       "\n",
       "    .dataframe thead th {\n",
       "        text-align: right;\n",
       "    }\n",
       "</style>\n",
       "<table border=\"1\" class=\"dataframe\">\n",
       "  <thead>\n",
       "    <tr style=\"text-align: right;\">\n",
       "      <th></th>\n",
       "      <th>RowNumber</th>\n",
       "      <th>CustomerId</th>\n",
       "      <th>Surname</th>\n",
       "      <th>CreditScore</th>\n",
       "      <th>Geography</th>\n",
       "      <th>Gender</th>\n",
       "      <th>Age</th>\n",
       "      <th>Tenure</th>\n",
       "      <th>Balance</th>\n",
       "      <th>NumOfProducts</th>\n",
       "      <th>HasCrCard</th>\n",
       "      <th>IsActiveMember</th>\n",
       "      <th>EstimatedSalary</th>\n",
       "      <th>Exited</th>\n",
       "    </tr>\n",
       "  </thead>\n",
       "  <tbody>\n",
       "    <tr>\n",
       "      <th>0</th>\n",
       "      <td>1</td>\n",
       "      <td>15634602</td>\n",
       "      <td>Hargrave</td>\n",
       "      <td>619</td>\n",
       "      <td>France</td>\n",
       "      <td>Female</td>\n",
       "      <td>42</td>\n",
       "      <td>2</td>\n",
       "      <td>0.00</td>\n",
       "      <td>1</td>\n",
       "      <td>1</td>\n",
       "      <td>1</td>\n",
       "      <td>101348.88</td>\n",
       "      <td>1</td>\n",
       "    </tr>\n",
       "    <tr>\n",
       "      <th>1</th>\n",
       "      <td>2</td>\n",
       "      <td>15647311</td>\n",
       "      <td>Hill</td>\n",
       "      <td>608</td>\n",
       "      <td>Spain</td>\n",
       "      <td>Female</td>\n",
       "      <td>41</td>\n",
       "      <td>1</td>\n",
       "      <td>83807.86</td>\n",
       "      <td>1</td>\n",
       "      <td>0</td>\n",
       "      <td>1</td>\n",
       "      <td>112542.58</td>\n",
       "      <td>0</td>\n",
       "    </tr>\n",
       "    <tr>\n",
       "      <th>2</th>\n",
       "      <td>3</td>\n",
       "      <td>15619304</td>\n",
       "      <td>Onio</td>\n",
       "      <td>502</td>\n",
       "      <td>France</td>\n",
       "      <td>Female</td>\n",
       "      <td>42</td>\n",
       "      <td>8</td>\n",
       "      <td>159660.80</td>\n",
       "      <td>3</td>\n",
       "      <td>1</td>\n",
       "      <td>0</td>\n",
       "      <td>113931.57</td>\n",
       "      <td>1</td>\n",
       "    </tr>\n",
       "    <tr>\n",
       "      <th>3</th>\n",
       "      <td>4</td>\n",
       "      <td>15701354</td>\n",
       "      <td>Boni</td>\n",
       "      <td>699</td>\n",
       "      <td>France</td>\n",
       "      <td>Female</td>\n",
       "      <td>39</td>\n",
       "      <td>1</td>\n",
       "      <td>0.00</td>\n",
       "      <td>2</td>\n",
       "      <td>0</td>\n",
       "      <td>0</td>\n",
       "      <td>93826.63</td>\n",
       "      <td>0</td>\n",
       "    </tr>\n",
       "    <tr>\n",
       "      <th>4</th>\n",
       "      <td>5</td>\n",
       "      <td>15737888</td>\n",
       "      <td>Mitchell</td>\n",
       "      <td>850</td>\n",
       "      <td>Spain</td>\n",
       "      <td>Female</td>\n",
       "      <td>43</td>\n",
       "      <td>2</td>\n",
       "      <td>125510.82</td>\n",
       "      <td>1</td>\n",
       "      <td>1</td>\n",
       "      <td>1</td>\n",
       "      <td>79084.10</td>\n",
       "      <td>0</td>\n",
       "    </tr>\n",
       "  </tbody>\n",
       "</table>\n",
       "</div>"
      ],
      "text/plain": [
       "   RowNumber  CustomerId   Surname  CreditScore Geography  Gender  Age  \\\n",
       "0          1    15634602  Hargrave          619    France  Female   42   \n",
       "1          2    15647311      Hill          608     Spain  Female   41   \n",
       "2          3    15619304      Onio          502    France  Female   42   \n",
       "3          4    15701354      Boni          699    France  Female   39   \n",
       "4          5    15737888  Mitchell          850     Spain  Female   43   \n",
       "\n",
       "   Tenure    Balance  NumOfProducts  HasCrCard  IsActiveMember  \\\n",
       "0       2       0.00              1          1               1   \n",
       "1       1   83807.86              1          0               1   \n",
       "2       8  159660.80              3          1               0   \n",
       "3       1       0.00              2          0               0   \n",
       "4       2  125510.82              1          1               1   \n",
       "\n",
       "   EstimatedSalary  Exited  \n",
       "0        101348.88       1  \n",
       "1        112542.58       0  \n",
       "2        113931.57       1  \n",
       "3         93826.63       0  \n",
       "4         79084.10       0  "
      ]
     },
     "execution_count": 17,
     "metadata": {},
     "output_type": "execute_result"
    }
   ],
   "source": [
    "#extraire 5 lignes de la base\n",
    "dataset.head()"
   ]
  },
  {
   "cell_type": "code",
   "execution_count": 18,
   "id": "a97a9b0c",
   "metadata": {},
   "outputs": [
    {
     "data": {
      "text/plain": [
       "(10000, 14)"
      ]
     },
     "execution_count": 18,
     "metadata": {},
     "output_type": "execute_result"
    }
   ],
   "source": [
    "#dimension\n",
    "dataset.shape"
   ]
  },
  {
   "cell_type": "code",
   "execution_count": 19,
   "id": "23966847",
   "metadata": {},
   "outputs": [
    {
     "name": "stdout",
     "output_type": "stream",
     "text": [
      "<class 'pandas.core.frame.DataFrame'>\n",
      "RangeIndex: 10000 entries, 0 to 9999\n",
      "Data columns (total 14 columns):\n",
      " #   Column           Non-Null Count  Dtype  \n",
      "---  ------           --------------  -----  \n",
      " 0   RowNumber        10000 non-null  int64  \n",
      " 1   CustomerId       10000 non-null  int64  \n",
      " 2   Surname          10000 non-null  object \n",
      " 3   CreditScore      10000 non-null  int64  \n",
      " 4   Geography        10000 non-null  object \n",
      " 5   Gender           10000 non-null  object \n",
      " 6   Age              10000 non-null  int64  \n",
      " 7   Tenure           10000 non-null  int64  \n",
      " 8   Balance          10000 non-null  float64\n",
      " 9   NumOfProducts    10000 non-null  int64  \n",
      " 10  HasCrCard        10000 non-null  int64  \n",
      " 11  IsActiveMember   10000 non-null  int64  \n",
      " 12  EstimatedSalary  10000 non-null  float64\n",
      " 13  Exited           10000 non-null  int64  \n",
      "dtypes: float64(2), int64(9), object(3)\n",
      "memory usage: 1.1+ MB\n"
     ]
    }
   ],
   "source": [
    "#informations sur les colonnes\n",
    "dataset.info()"
   ]
  },
  {
   "cell_type": "markdown",
   "id": "bde97540",
   "metadata": {},
   "source": [
    "# input variables and target"
   ]
  },
  {
   "cell_type": "code",
   "execution_count": 20,
   "id": "f5cea969",
   "metadata": {},
   "outputs": [],
   "source": [
    "#input variables and target\n",
    "x=dataset.iloc[:,3:13] #toutes les lignes et de la  colonne  3(i) jusqu'a colonne 12(j)cad [i:j+1] (Rq:1ere colonne dindice 0 a part le id incremental )\n",
    "y=dataset.iloc[:,13:14]#toutes les lignes et la colonne 13 cas y prend la 13eme colonne"
   ]
  },
  {
   "cell_type": "code",
   "execution_count": 21,
   "id": "a7fa62d7",
   "metadata": {},
   "outputs": [
    {
     "data": {
      "text/html": [
       "<div>\n",
       "<style scoped>\n",
       "    .dataframe tbody tr th:only-of-type {\n",
       "        vertical-align: middle;\n",
       "    }\n",
       "\n",
       "    .dataframe tbody tr th {\n",
       "        vertical-align: top;\n",
       "    }\n",
       "\n",
       "    .dataframe thead th {\n",
       "        text-align: right;\n",
       "    }\n",
       "</style>\n",
       "<table border=\"1\" class=\"dataframe\">\n",
       "  <thead>\n",
       "    <tr style=\"text-align: right;\">\n",
       "      <th></th>\n",
       "      <th>CreditScore</th>\n",
       "      <th>Geography</th>\n",
       "      <th>Gender</th>\n",
       "      <th>Age</th>\n",
       "      <th>Tenure</th>\n",
       "      <th>Balance</th>\n",
       "      <th>NumOfProducts</th>\n",
       "      <th>HasCrCard</th>\n",
       "      <th>IsActiveMember</th>\n",
       "      <th>EstimatedSalary</th>\n",
       "    </tr>\n",
       "  </thead>\n",
       "  <tbody>\n",
       "    <tr>\n",
       "      <th>0</th>\n",
       "      <td>619</td>\n",
       "      <td>France</td>\n",
       "      <td>Female</td>\n",
       "      <td>42</td>\n",
       "      <td>2</td>\n",
       "      <td>0.00</td>\n",
       "      <td>1</td>\n",
       "      <td>1</td>\n",
       "      <td>1</td>\n",
       "      <td>101348.88</td>\n",
       "    </tr>\n",
       "    <tr>\n",
       "      <th>1</th>\n",
       "      <td>608</td>\n",
       "      <td>Spain</td>\n",
       "      <td>Female</td>\n",
       "      <td>41</td>\n",
       "      <td>1</td>\n",
       "      <td>83807.86</td>\n",
       "      <td>1</td>\n",
       "      <td>0</td>\n",
       "      <td>1</td>\n",
       "      <td>112542.58</td>\n",
       "    </tr>\n",
       "    <tr>\n",
       "      <th>2</th>\n",
       "      <td>502</td>\n",
       "      <td>France</td>\n",
       "      <td>Female</td>\n",
       "      <td>42</td>\n",
       "      <td>8</td>\n",
       "      <td>159660.80</td>\n",
       "      <td>3</td>\n",
       "      <td>1</td>\n",
       "      <td>0</td>\n",
       "      <td>113931.57</td>\n",
       "    </tr>\n",
       "    <tr>\n",
       "      <th>3</th>\n",
       "      <td>699</td>\n",
       "      <td>France</td>\n",
       "      <td>Female</td>\n",
       "      <td>39</td>\n",
       "      <td>1</td>\n",
       "      <td>0.00</td>\n",
       "      <td>2</td>\n",
       "      <td>0</td>\n",
       "      <td>0</td>\n",
       "      <td>93826.63</td>\n",
       "    </tr>\n",
       "    <tr>\n",
       "      <th>4</th>\n",
       "      <td>850</td>\n",
       "      <td>Spain</td>\n",
       "      <td>Female</td>\n",
       "      <td>43</td>\n",
       "      <td>2</td>\n",
       "      <td>125510.82</td>\n",
       "      <td>1</td>\n",
       "      <td>1</td>\n",
       "      <td>1</td>\n",
       "      <td>79084.10</td>\n",
       "    </tr>\n",
       "  </tbody>\n",
       "</table>\n",
       "</div>"
      ],
      "text/plain": [
       "   CreditScore Geography  Gender  Age  Tenure    Balance  NumOfProducts  \\\n",
       "0          619    France  Female   42       2       0.00              1   \n",
       "1          608     Spain  Female   41       1   83807.86              1   \n",
       "2          502    France  Female   42       8  159660.80              3   \n",
       "3          699    France  Female   39       1       0.00              2   \n",
       "4          850     Spain  Female   43       2  125510.82              1   \n",
       "\n",
       "   HasCrCard  IsActiveMember  EstimatedSalary  \n",
       "0          1               1        101348.88  \n",
       "1          0               1        112542.58  \n",
       "2          1               0        113931.57  \n",
       "3          0               0         93826.63  \n",
       "4          1               1         79084.10  "
      ]
     },
     "execution_count": 21,
     "metadata": {},
     "output_type": "execute_result"
    }
   ],
   "source": [
    "#affichier les x\n",
    "x.head()"
   ]
  },
  {
   "cell_type": "code",
   "execution_count": 22,
   "id": "f4cd65a9",
   "metadata": {},
   "outputs": [
    {
     "data": {
      "text/html": [
       "<div>\n",
       "<style scoped>\n",
       "    .dataframe tbody tr th:only-of-type {\n",
       "        vertical-align: middle;\n",
       "    }\n",
       "\n",
       "    .dataframe tbody tr th {\n",
       "        vertical-align: top;\n",
       "    }\n",
       "\n",
       "    .dataframe thead th {\n",
       "        text-align: right;\n",
       "    }\n",
       "</style>\n",
       "<table border=\"1\" class=\"dataframe\">\n",
       "  <thead>\n",
       "    <tr style=\"text-align: right;\">\n",
       "      <th></th>\n",
       "      <th>Exited</th>\n",
       "    </tr>\n",
       "  </thead>\n",
       "  <tbody>\n",
       "    <tr>\n",
       "      <th>0</th>\n",
       "      <td>1</td>\n",
       "    </tr>\n",
       "    <tr>\n",
       "      <th>1</th>\n",
       "      <td>0</td>\n",
       "    </tr>\n",
       "    <tr>\n",
       "      <th>2</th>\n",
       "      <td>1</td>\n",
       "    </tr>\n",
       "    <tr>\n",
       "      <th>3</th>\n",
       "      <td>0</td>\n",
       "    </tr>\n",
       "    <tr>\n",
       "      <th>4</th>\n",
       "      <td>0</td>\n",
       "    </tr>\n",
       "  </tbody>\n",
       "</table>\n",
       "</div>"
      ],
      "text/plain": [
       "   Exited\n",
       "0       1\n",
       "1       0\n",
       "2       1\n",
       "3       0\n",
       "4       0"
      ]
     },
     "execution_count": 22,
     "metadata": {},
     "output_type": "execute_result"
    }
   ],
   "source": [
    "#affichier les y\n",
    "y.head()"
   ]
  },
  {
   "cell_type": "code",
   "execution_count": 23,
   "id": "78f90a07",
   "metadata": {},
   "outputs": [
    {
     "data": {
      "text/plain": [
       "pandas.core.frame.DataFrame"
      ]
     },
     "execution_count": 23,
     "metadata": {},
     "output_type": "execute_result"
    }
   ],
   "source": [
    "type(x)"
   ]
  },
  {
   "cell_type": "code",
   "execution_count": 24,
   "id": "b0d97abc",
   "metadata": {},
   "outputs": [
    {
     "data": {
      "text/plain": [
       "pandas.core.frame.DataFrame"
      ]
     },
     "execution_count": 24,
     "metadata": {},
     "output_type": "execute_result"
    }
   ],
   "source": [
    "type(y)"
   ]
  },
  {
   "cell_type": "markdown",
   "id": "e5e0496b",
   "metadata": {},
   "source": [
    "# convert dataframe to numpy array\n",
    "#### (manipuler une matrcice  )"
   ]
  },
  {
   "cell_type": "code",
   "execution_count": 25,
   "id": "46c45b02",
   "metadata": {},
   "outputs": [],
   "source": [
    "#convert dataframe to numpy array(manipuler une matrcice  )\n",
    "x=x.values\n",
    "y=y.values"
   ]
  },
  {
   "cell_type": "code",
   "execution_count": 26,
   "id": "369beaa3",
   "metadata": {},
   "outputs": [
    {
     "data": {
      "text/plain": [
       "numpy.ndarray"
      ]
     },
     "execution_count": 26,
     "metadata": {},
     "output_type": "execute_result"
    }
   ],
   "source": [
    "# pour verifer le changement du type vers numpy (matrice)\n",
    "type(x)"
   ]
  },
  {
   "cell_type": "code",
   "execution_count": 27,
   "id": "787981ee",
   "metadata": {},
   "outputs": [
    {
     "data": {
      "text/plain": [
       "numpy.ndarray"
      ]
     },
     "execution_count": 27,
     "metadata": {},
     "output_type": "execute_result"
    }
   ],
   "source": [
    "type(y)"
   ]
  },
  {
   "cell_type": "code",
   "execution_count": 28,
   "id": "c72884ae",
   "metadata": {},
   "outputs": [
    {
     "data": {
      "text/plain": [
       "array([[619, 'France', 'Female', 42, 2, 0.0, 1, 1, 1, 101348.88],\n",
       "       [608, 'Spain', 'Female', 41, 1, 83807.86, 1, 0, 1, 112542.58],\n",
       "       [502, 'France', 'Female', 42, 8, 159660.8, 3, 1, 0, 113931.57],\n",
       "       [699, 'France', 'Female', 39, 1, 0.0, 2, 0, 0, 93826.63],\n",
       "       [850, 'Spain', 'Female', 43, 2, 125510.82, 1, 1, 1, 79084.1],\n",
       "       [645, 'Spain', 'Male', 44, 8, 113755.78, 2, 1, 0, 149756.71],\n",
       "       [822, 'France', 'Male', 50, 7, 0.0, 2, 1, 1, 10062.8],\n",
       "       [376, 'Germany', 'Female', 29, 4, 115046.74, 4, 1, 0, 119346.88],\n",
       "       [501, 'France', 'Male', 44, 4, 142051.07, 2, 0, 1, 74940.5],\n",
       "       [684, 'France', 'Male', 27, 2, 134603.88, 1, 1, 1, 71725.73]],\n",
       "      dtype=object)"
      ]
     },
     "execution_count": 28,
     "metadata": {},
     "output_type": "execute_result"
    }
   ],
   "source": [
    "#affichage les 10 1ere lignes tous les colonnes:cest une matrice du differente type\n",
    "x[0:10,:]"
   ]
  },
  {
   "cell_type": "markdown",
   "id": "27f75c79",
   "metadata": {},
   "source": [
    "# encoding categorical data \n",
    "#### partie indespensable pour passer au partie modeling"
   ]
  },
  {
   "cell_type": "code",
   "execution_count": 15,
   "id": "f8539bc3",
   "metadata": {},
   "outputs": [],
   "source": [
    "#LabelEncader : permet de numérise une colonne par ordre alphabétique des catégories\n",
    "from sklearn.preprocessing import LabelEncoder #\n",
    "label =LabelEncoder()"
   ]
  },
  {
   "cell_type": "code",
   "execution_count": 16,
   "id": "2fe3afb0",
   "metadata": {},
   "outputs": [],
   "source": [
    "x[:,1]=label.fit_transform(x[:,1])#numeriser toutes les lignes de la colonne 1 "
   ]
  },
  {
   "cell_type": "code",
   "execution_count": 17,
   "id": "b7201bac",
   "metadata": {},
   "outputs": [
    {
     "data": {
      "text/plain": [
       "array([[619, 0, 'Female', 42, 2, 0.0, 1, 1, 1, 101348.88],\n",
       "       [608, 2, 'Female', 41, 1, 83807.86, 1, 0, 1, 112542.58],\n",
       "       [502, 0, 'Female', 42, 8, 159660.8, 3, 1, 0, 113931.57],\n",
       "       [699, 0, 'Female', 39, 1, 0.0, 2, 0, 0, 93826.63],\n",
       "       [850, 2, 'Female', 43, 2, 125510.82, 1, 1, 1, 79084.1],\n",
       "       [645, 2, 'Male', 44, 8, 113755.78, 2, 1, 0, 149756.71],\n",
       "       [822, 0, 'Male', 50, 7, 0.0, 2, 1, 1, 10062.8],\n",
       "       [376, 1, 'Female', 29, 4, 115046.74, 4, 1, 0, 119346.88],\n",
       "       [501, 0, 'Male', 44, 4, 142051.07, 2, 0, 1, 74940.5],\n",
       "       [684, 0, 'Male', 27, 2, 134603.88, 1, 1, 1, 71725.73]],\n",
       "      dtype=object)"
      ]
     },
     "execution_count": 17,
     "metadata": {},
     "output_type": "execute_result"
    }
   ],
   "source": [
    "#affichages des 10 1ere lignes tous les colonnes pour voir m'encodage de la colonne 1\n",
    "x[0:10,:]"
   ]
  },
  {
   "cell_type": "code",
   "execution_count": 18,
   "id": "631a47a8",
   "metadata": {},
   "outputs": [],
   "source": [
    "x[:,2]=label.fit_transform(x[:,2]) #numeriser toutes les lignes de la colonne 2"
   ]
  },
  {
   "cell_type": "code",
   "execution_count": 19,
   "id": "7f91ed6b",
   "metadata": {},
   "outputs": [
    {
     "data": {
      "text/plain": [
       "array([[619, 0, 0, 42, 2, 0.0, 1, 1, 1, 101348.88],\n",
       "       [608, 2, 0, 41, 1, 83807.86, 1, 0, 1, 112542.58],\n",
       "       [502, 0, 0, 42, 8, 159660.8, 3, 1, 0, 113931.57],\n",
       "       [699, 0, 0, 39, 1, 0.0, 2, 0, 0, 93826.63],\n",
       "       [850, 2, 0, 43, 2, 125510.82, 1, 1, 1, 79084.1],\n",
       "       [645, 2, 1, 44, 8, 113755.78, 2, 1, 0, 149756.71],\n",
       "       [822, 0, 1, 50, 7, 0.0, 2, 1, 1, 10062.8],\n",
       "       [376, 1, 0, 29, 4, 115046.74, 4, 1, 0, 119346.88],\n",
       "       [501, 0, 1, 44, 4, 142051.07, 2, 0, 1, 74940.5],\n",
       "       [684, 0, 1, 27, 2, 134603.88, 1, 1, 1, 71725.73]], dtype=object)"
      ]
     },
     "execution_count": 19,
     "metadata": {},
     "output_type": "execute_result"
    }
   ],
   "source": [
    "#affichages des 10 1ere lignes tous les colonnes pour voir m'encodage de la colonne 2\n",
    "x[0:10,:]"
   ]
  },
  {
   "cell_type": "markdown",
   "id": "1a595a6f",
   "metadata": {},
   "source": [
    "# splitting dataset into train and test sets \n",
    "##### (division data patie train 80% et patie test 20%)"
   ]
  },
  {
   "cell_type": "code",
   "execution_count": 20,
   "id": "e2c3918d",
   "metadata": {},
   "outputs": [],
   "source": [
    "from sklearn.model_selection import train_test_split\n",
    "X_train,X_test,y_train,y_test= train_test_split(x,y,test_size=0.2,random_state=0) #0.2 est la proportion de la partie test\n",
    "#random_state role fixer la partie pour une proprotion fixe cad aletoire fixe"
   ]
  },
  {
   "cell_type": "code",
   "execution_count": 21,
   "id": "540a5889",
   "metadata": {},
   "outputs": [
    {
     "data": {
      "text/plain": [
       "array([[667, 2, 0, ..., 1, 0, 163830.64],\n",
       "       [427, 1, 1, ..., 1, 1, 57098.0],\n",
       "       [535, 0, 0, ..., 1, 0, 185630.76],\n",
       "       ...,\n",
       "       [738, 0, 1, ..., 1, 0, 181429.87],\n",
       "       [590, 2, 0, ..., 1, 1, 148750.16],\n",
       "       [623, 1, 0, ..., 1, 0, 118855.26]], dtype=object)"
      ]
     },
     "execution_count": 21,
     "metadata": {},
     "output_type": "execute_result"
    }
   ],
   "source": [
    "X_train"
   ]
  },
  {
   "cell_type": "code",
   "execution_count": 22,
   "id": "867fbb58",
   "metadata": {},
   "outputs": [],
   "source": [
    "#pour voir la difference entre la presence de l'attribut random_state et la non presence \n",
    "#from sklearn.model_selection import train_test_split\n",
    "#X_train,X_test,y_train,y_test= train_test_split(x,y,test_size=0.2)"
   ]
  },
  {
   "cell_type": "code",
   "execution_count": 23,
   "id": "dac06dc7",
   "metadata": {},
   "outputs": [],
   "source": [
    "#X_train"
   ]
  },
  {
   "cell_type": "code",
   "execution_count": 24,
   "id": "6f5daeee",
   "metadata": {},
   "outputs": [
    {
     "name": "stdout",
     "output_type": "stream",
     "text": [
      "X_train shape= (8000, 10)\n",
      "X_test shape= (2000, 10)\n",
      "Y_train shape= (8000, 1)\n",
      "y_test shape= (2000, 1)\n"
     ]
    }
   ],
   "source": [
    "#dimension de chaque partie train et test \n",
    "print('X_train shape=',X_train.shape)#taille de la partie x_train\n",
    "print('X_test shape=',X_test.shape)#taille de la partie x_test\n",
    "print('Y_train shape=',y_train.shape)#taille de la partie y_train\n",
    "print('y_test shape=',y_test.shape)#taille de la partie y_test\n"
   ]
  },
  {
   "cell_type": "code",
   "execution_count": 25,
   "id": "df10eb12",
   "metadata": {},
   "outputs": [
    {
     "name": "stdout",
     "output_type": "stream",
     "text": [
      "taux de churn dans toute la base: 0.2037\n",
      "taux de churn dans toute y_train: 0.204\n",
      "taux de churn dans toute y_test: 0.2025\n"
     ]
    }
   ],
   "source": [
    "#verifer la distribution des 0 et 1 dans toute la base : la base d'entrainement et la base de test \n",
    "print('taux de churn dans toute la base:',y.mean())\n",
    "print('taux de churn dans toute y_train:',y_train.mean())\n",
    "print('taux de churn dans toute y_test:',y_test.mean())\n",
    "\n"
   ]
  },
  {
   "cell_type": "markdown",
   "id": "d1697b96",
   "metadata": {},
   "source": [
    "# feature scaling\n",
    "##### (normalisation toute les variable entre [0,1]ou bien la standarisation ) pour faire un equilibre cad mettre un echelle "
   ]
  },
  {
   "cell_type": "code",
   "execution_count": 26,
   "id": "26b90d7a",
   "metadata": {},
   "outputs": [],
   "source": [
    "#from sklearn.processing import MinMaxScaler pour normalisation \n",
    "#appliquer une normalisation\n",
    "from sklearn.preprocessing import StandardScaler #standarisation \n",
    "scaler=StandardScaler()\n",
    "#si on utilise des algo calcul distance comme K-NN on utilise des donnees standarise \n",
    "#sinon pas besoin on peut utilise les donnees normal ou les srandarise aussi"
   ]
  },
  {
   "cell_type": "code",
   "execution_count": 27,
   "id": "8121e1f9",
   "metadata": {},
   "outputs": [],
   "source": [
    "#fit:calcul\n",
    "#transform :transformation\n",
    "x_train_sc= scaler.fit_transform(X_train)#on crée une copie de x_train(calcul et transformation)\n",
    "x_test_sc=scaler.transform(X_test)#on crée une copie de x_test(transformation seulement)"
   ]
  },
  {
   "cell_type": "code",
   "execution_count": 28,
   "id": "1d6de4c8",
   "metadata": {},
   "outputs": [
    {
     "data": {
      "text/plain": [
       "array([ 0.16958176,  1.51919821, -1.09168714, -0.46460796,  0.00666099,\n",
       "       -1.21571749,  0.8095029 ,  0.64259497, -1.03227043,  1.10643166])"
      ]
     },
     "execution_count": 28,
     "metadata": {},
     "output_type": "execute_result"
    }
   ],
   "source": [
    "x_train_sc[0,:]"
   ]
  },
  {
   "cell_type": "code",
   "execution_count": 29,
   "id": "887d5088",
   "metadata": {},
   "outputs": [
    {
     "data": {
      "text/plain": [
       "array([667, 2, 0, 34, 5, 0.0, 2, 1, 0, 163830.64], dtype=object)"
      ]
     },
     "execution_count": 29,
     "metadata": {},
     "output_type": "execute_result"
    }
   ],
   "source": [
    "X_train[0,:]"
   ]
  },
  {
   "cell_type": "markdown",
   "id": "08d89df9",
   "metadata": {},
   "source": [
    "# k-NN implementer le modele"
   ]
  },
  {
   "cell_type": "code",
   "execution_count": 30,
   "id": "6d8a3b8d",
   "metadata": {},
   "outputs": [],
   "source": [
    "from sklearn.neighbors import KNeighborsClassifier \n",
    "knn = KNeighborsClassifier(n_neighbors=5)"
   ]
  },
  {
   "cell_type": "code",
   "execution_count": 31,
   "id": "fcd65696",
   "metadata": {},
   "outputs": [
    {
     "data": {
      "text/plain": [
       "KNeighborsClassifier()"
      ]
     },
     "execution_count": 31,
     "metadata": {},
     "output_type": "execute_result"
    }
   ],
   "source": [
    "knn.fit(x_train_sc,y_train)#placer les points et les colorier \n",
    "#entrainer le modele sur les données standariser x_train_sc/y_train"
   ]
  },
  {
   "cell_type": "code",
   "execution_count": 32,
   "id": "cf409317",
   "metadata": {},
   "outputs": [],
   "source": [
    "y_pred_knn= knn.predict(x_test_sc) #rendre un vecteur "
   ]
  },
  {
   "cell_type": "code",
   "execution_count": 33,
   "id": "4b5454b4",
   "metadata": {},
   "outputs": [
    {
     "name": "stdout",
     "output_type": "stream",
     "text": [
      "[[597 1 0 35 8 131101.04 1 1 1 192852.67]\n",
      " [523 0 0 40 2 102967.41 1 1 0 128702.1]\n",
      " [706 2 0 42 8 95386.82 1 1 1 75732.25]\n",
      " [788 0 1 32 4 112079.58 1 0 0 89368.59]\n",
      " [706 1 1 38 5 163034.82 2 1 1 135662.17]\n",
      " [670 2 0 57 3 175575.95 2 1 0 99061.75]\n",
      " [590 2 1 34 0 65812.35 2 0 1 160346.3]\n",
      " [636 2 0 29 6 157576.47 2 1 1 101102.39]\n",
      " [598 0 0 64 9 0.0 1 0 1 13181.37]\n",
      " [456 0 0 63 1 165350.61 2 0 0 140758.07]]\n"
     ]
    }
   ],
   "source": [
    "print(X_test[0:10,:]) #affichage les 10 1ere instances de la base "
   ]
  },
  {
   "cell_type": "code",
   "execution_count": 34,
   "id": "76edbe5a",
   "metadata": {},
   "outputs": [
    {
     "name": "stdout",
     "output_type": "stream",
     "text": [
      "[[-0.55204276  0.3131264  -1.09168714 -0.36890377  1.04473698  0.8793029\n",
      "  -0.92159124  0.64259497  0.9687384   1.61085707]\n",
      " [-1.31490297 -0.89294542 -1.09168714  0.10961719 -1.031415    0.42972196\n",
      "  -0.92159124  0.64259497 -1.03227043  0.49587037]\n",
      " [ 0.57162971  1.51919821 -1.09168714  0.30102557  1.04473698  0.30858264\n",
      "  -0.92159124  0.64259497  0.9687384  -0.42478674]\n",
      " [ 1.41696129 -0.89294542  0.91601335 -0.65601634 -0.33936434  0.57533623\n",
      "  -0.92159124 -1.55619021 -1.03227043 -0.18777657]\n",
      " [ 0.57162971  0.3131264   0.91601335 -0.08179119  0.00666099  1.38961097\n",
      "   0.8095029   0.64259497  0.9687384   0.61684179]\n",
      " [ 0.20050853  1.51919821 -1.09168714  1.73658844 -0.68538967  1.5900207\n",
      "   0.8095029   0.64259497 -1.03227043 -0.01930192]\n",
      " [-0.62420521  1.51919821  0.91601335 -0.46460796 -1.72346566 -0.1640232\n",
      "   0.8095029  -1.55619021  0.9687384   1.04587113]\n",
      " [-0.14999481  1.51919821 -1.09168714 -0.94312892  0.35268632  1.30238547\n",
      "   0.8095029   0.64259497  0.9687384   0.01616599]\n",
      " [-0.54173384 -0.89294542 -1.09168714  2.40651778  1.39076231 -1.21571749\n",
      "  -0.92159124 -1.55619021  0.9687384  -1.51196958]\n",
      " [-2.00560072 -0.89294542 -1.09168714  2.31081359 -1.37744033  1.42661775\n",
      "   0.8095029  -1.55619021 -1.03227043  0.70541249]]\n"
     ]
    }
   ],
   "source": [
    "print(x_test_sc[0:10,:]) #affichage"
   ]
  },
  {
   "cell_type": "code",
   "execution_count": 35,
   "id": "fc7dd1ab",
   "metadata": {},
   "outputs": [],
   "source": [
    "#for i in range(10)\n",
    "#print()"
   ]
  },
  {
   "cell_type": "code",
   "execution_count": 36,
   "id": "2fce66a8",
   "metadata": {},
   "outputs": [],
   "source": [
    "from sklearn.metrics import accuracy_score,confusion_matrix,classification_report"
   ]
  },
  {
   "cell_type": "code",
   "execution_count": 37,
   "id": "9edca79d",
   "metadata": {},
   "outputs": [
    {
     "name": "stdout",
     "output_type": "stream",
     "text": [
      "confusion matrix knn\n",
      " [[1496   99]\n",
      " [ 232  173]]\n",
      "accuracy knn 0.8345\n"
     ]
    }
   ],
   "source": [
    "print('confusion matrix knn\\n',confusion_matrix(y_test,y_pred_knn))\n",
    "print('accuracy knn',accuracy_score(y_test,y_pred_knn))     "
   ]
  },
  {
   "cell_type": "code",
   "execution_count": 38,
   "id": "f423619d",
   "metadata": {},
   "outputs": [
    {
     "name": "stdout",
     "output_type": "stream",
     "text": [
      "recall knn 0.4271604938271605\n",
      "precision knn 0.6360294117647058\n"
     ]
    }
   ],
   "source": [
    "from sklearn.metrics import recall_score,precision_score\n",
    "print('recall knn',recall_score(y_test,y_pred_knn))\n",
    "print('precision knn',precision_score(y_test,y_pred_knn))"
   ]
  },
  {
   "cell_type": "code",
   "execution_count": 39,
   "id": "bb3672b0",
   "metadata": {},
   "outputs": [
    {
     "name": "stdout",
     "output_type": "stream",
     "text": [
      "              precision    recall  f1-score   support\n",
      "\n",
      "           0       0.87      0.94      0.90      1595\n",
      "           1       0.64      0.43      0.51       405\n",
      "\n",
      "    accuracy                           0.83      2000\n",
      "   macro avg       0.75      0.68      0.71      2000\n",
      "weighted avg       0.82      0.83      0.82      2000\n",
      "\n"
     ]
    }
   ],
   "source": [
    "#print('classification knn',classification_report(y_test,y_pred_knn))\n",
    "print(classification_report(y_test,y_pred_knn))"
   ]
  },
  {
   "cell_type": "code",
   "execution_count": 40,
   "id": "cd565067",
   "metadata": {},
   "outputs": [
    {
     "name": "stdout",
     "output_type": "stream",
     "text": [
      "k= 3\n",
      "accuracy knn 0.824\n",
      "k= 4\n",
      "accuracy knn 0.834\n",
      "k= 5\n",
      "accuracy knn 0.8345\n",
      "k= 6\n",
      "accuracy knn 0.8425\n",
      "k= 7\n",
      "accuracy knn 0.841\n",
      "k= 8\n",
      "accuracy knn 0.844\n",
      "k= 9\n",
      "accuracy knn 0.841\n",
      "k= 10\n",
      "accuracy knn 0.847\n",
      "k= 11\n",
      "accuracy knn 0.8475\n",
      "k= 12\n",
      "accuracy knn 0.843\n",
      "k= 13\n",
      "accuracy knn 0.8465\n"
     ]
    }
   ],
   "source": [
    "from sklearn.neighbors import KNeighborsClassifier \n",
    "from sklearn.metrics import accuracy_score,confusion_matrix,classification_report\n",
    "for k in(3,4,5,6,7,8,9,10,11,12,13):\n",
    "    n_neighbors=k\n",
    "    print(\"k=\",k)\n",
    "    knn = KNeighborsClassifier(n_neighbors=k)\n",
    "    knn.fit(x_train_sc,y_train)\n",
    "    y_pred_knn= knn.predict(x_test_sc)\n",
    "    print('accuracy knn',accuracy_score(y_test,y_pred_knn))  "
   ]
  },
  {
   "cell_type": "code",
   "execution_count": 45,
   "id": "42095da1",
   "metadata": {},
   "outputs": [
    {
     "name": "stdout",
     "output_type": "stream",
     "text": [
      "0.8475\n",
      "11\n"
     ]
    }
   ],
   "source": [
    "from sklearn.neighbors import KNeighborsClassifier \n",
    "from sklearn.metrics import accuracy_score,confusion_matrix,classification_report\n",
    "max=0\n",
    "for k in range(3,14):\n",
    "    n_neighbors=k\n",
    "    #print(\"k=\",k)\n",
    "    knn = KNeighborsClassifier(n_neighbors=k)\n",
    "    knn.fit(x_train_sc,y_train)\n",
    "    y_pred_knn= knn.predict(x_test_sc)\n",
    "    if accuracy_score(y_test,y_pred_knn) > max : \n",
    "        max = accuracy_score(y_test,y_pred_knn) \n",
    "        index= k\n",
    "print(max)\n",
    "print(index)\n",
    "    #print('accuracy knn',accuracy_score(y_test,y_pred_knn))  "
   ]
  },
  {
   "cell_type": "code",
   "execution_count": null,
   "id": "3efd8c30",
   "metadata": {},
   "outputs": [],
   "source": []
  }
 ],
 "metadata": {
  "kernelspec": {
   "display_name": "Python 3 (ipykernel)",
   "language": "python",
   "name": "python3"
  },
  "language_info": {
   "codemirror_mode": {
    "name": "ipython",
    "version": 3
   },
   "file_extension": ".py",
   "mimetype": "text/x-python",
   "name": "python",
   "nbconvert_exporter": "python",
   "pygments_lexer": "ipython3",
   "version": "3.9.13"
  }
 },
 "nbformat": 4,
 "nbformat_minor": 5
}
