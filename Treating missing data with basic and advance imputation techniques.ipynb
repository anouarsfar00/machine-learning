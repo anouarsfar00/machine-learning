{
 "cells": [
  {
   "cell_type": "markdown",
   "id": "0d29f20e",
   "metadata": {},
   "source": [
    "# Import python packages"
   ]
  },
  {
   "cell_type": "code",
   "execution_count": 1,
   "id": "a3a5a6e5",
   "metadata": {},
   "outputs": [],
   "source": [
    "import pandas as pd\n",
    "import numpy as np"
   ]
  },
  {
   "cell_type": "markdown",
   "id": "804a0f88",
   "metadata": {},
   "source": [
    "# Import data"
   ]
  },
  {
   "cell_type": "code",
   "execution_count": 2,
   "id": "3824d13b",
   "metadata": {},
   "outputs": [],
   "source": [
    "employees = pd.read_csv('employees.csv', na_values='NaN')"
   ]
  },
  {
   "cell_type": "markdown",
   "id": "9111abe2",
   "metadata": {},
   "source": [
    "# Check data"
   ]
  },
  {
   "cell_type": "code",
   "execution_count": 3,
   "id": "6b5be108",
   "metadata": {},
   "outputs": [
    {
     "data": {
      "text/html": [
       "<div>\n",
       "<style scoped>\n",
       "    .dataframe tbody tr th:only-of-type {\n",
       "        vertical-align: middle;\n",
       "    }\n",
       "\n",
       "    .dataframe tbody tr th {\n",
       "        vertical-align: top;\n",
       "    }\n",
       "\n",
       "    .dataframe thead th {\n",
       "        text-align: right;\n",
       "    }\n",
       "</style>\n",
       "<table border=\"1\" class=\"dataframe\">\n",
       "  <thead>\n",
       "    <tr style=\"text-align: right;\">\n",
       "      <th></th>\n",
       "      <th>First Name</th>\n",
       "      <th>Gender</th>\n",
       "      <th>Salary</th>\n",
       "      <th>Bonus %</th>\n",
       "      <th>Senior Management</th>\n",
       "      <th>Team</th>\n",
       "    </tr>\n",
       "  </thead>\n",
       "  <tbody>\n",
       "    <tr>\n",
       "      <th>0</th>\n",
       "      <td>Douglas</td>\n",
       "      <td>Male</td>\n",
       "      <td>97308</td>\n",
       "      <td>6.945</td>\n",
       "      <td>TRUE</td>\n",
       "      <td>Marketing</td>\n",
       "    </tr>\n",
       "    <tr>\n",
       "      <th>1</th>\n",
       "      <td>Thomas</td>\n",
       "      <td>Male</td>\n",
       "      <td>61933</td>\n",
       "      <td>NaN</td>\n",
       "      <td>TRUE</td>\n",
       "      <td>NaN</td>\n",
       "    </tr>\n",
       "    <tr>\n",
       "      <th>2</th>\n",
       "      <td>Maria</td>\n",
       "      <td>Female</td>\n",
       "      <td>130590</td>\n",
       "      <td>11.858</td>\n",
       "      <td>FALSE</td>\n",
       "      <td>Finance</td>\n",
       "    </tr>\n",
       "    <tr>\n",
       "      <th>3</th>\n",
       "      <td>Jerry</td>\n",
       "      <td>Male</td>\n",
       "      <td>NaN</td>\n",
       "      <td>9.34</td>\n",
       "      <td>TRUE</td>\n",
       "      <td>Finance</td>\n",
       "    </tr>\n",
       "    <tr>\n",
       "      <th>4</th>\n",
       "      <td>Larry</td>\n",
       "      <td>Male</td>\n",
       "      <td>101004</td>\n",
       "      <td>1.389</td>\n",
       "      <td>TRUE</td>\n",
       "      <td>Client Services</td>\n",
       "    </tr>\n",
       "  </tbody>\n",
       "</table>\n",
       "</div>"
      ],
      "text/plain": [
       "  First Name  Gender  Salary Bonus % Senior Management             Team\n",
       "0    Douglas    Male   97308   6.945              TRUE        Marketing\n",
       "1     Thomas    Male   61933     NaN              TRUE              NaN\n",
       "2      Maria  Female  130590  11.858             FALSE          Finance\n",
       "3      Jerry    Male     NaN    9.34              TRUE          Finance\n",
       "4      Larry    Male  101004   1.389              TRUE  Client Services"
      ]
     },
     "execution_count": 3,
     "metadata": {},
     "output_type": "execute_result"
    }
   ],
   "source": [
    "employees.head()"
   ]
  },
  {
   "cell_type": "code",
   "execution_count": 4,
   "id": "dcf0cc3a",
   "metadata": {},
   "outputs": [
    {
     "data": {
      "text/plain": [
       "(1000, 6)"
      ]
     },
     "execution_count": 4,
     "metadata": {},
     "output_type": "execute_result"
    }
   ],
   "source": [
    "employees.shape"
   ]
  },
  {
   "cell_type": "code",
   "execution_count": 5,
   "id": "417072df",
   "metadata": {},
   "outputs": [
    {
     "name": "stdout",
     "output_type": "stream",
     "text": [
      "<class 'pandas.core.frame.DataFrame'>\n",
      "RangeIndex: 1000 entries, 0 to 999\n",
      "Data columns (total 6 columns):\n",
      " #   Column             Non-Null Count  Dtype \n",
      "---  ------             --------------  ----- \n",
      " 0   First Name         931 non-null    object\n",
      " 1   Gender             852 non-null    object\n",
      " 2   Salary             998 non-null    object\n",
      " 3   Bonus %            997 non-null    object\n",
      " 4   Senior Management  932 non-null    object\n",
      " 5   Team               957 non-null    object\n",
      "dtypes: object(6)\n",
      "memory usage: 47.0+ KB\n"
     ]
    }
   ],
   "source": [
    "employees.info()"
   ]
  },
  {
   "cell_type": "code",
   "execution_count": 6,
   "id": "34b4d004",
   "metadata": {},
   "outputs": [
    {
     "data": {
      "text/html": [
       "<div>\n",
       "<style scoped>\n",
       "    .dataframe tbody tr th:only-of-type {\n",
       "        vertical-align: middle;\n",
       "    }\n",
       "\n",
       "    .dataframe tbody tr th {\n",
       "        vertical-align: top;\n",
       "    }\n",
       "\n",
       "    .dataframe thead th {\n",
       "        text-align: right;\n",
       "    }\n",
       "</style>\n",
       "<table border=\"1\" class=\"dataframe\">\n",
       "  <thead>\n",
       "    <tr style=\"text-align: right;\">\n",
       "      <th></th>\n",
       "      <th>First Name</th>\n",
       "      <th>Gender</th>\n",
       "      <th>Salary</th>\n",
       "      <th>Bonus %</th>\n",
       "      <th>Senior Management</th>\n",
       "      <th>Team</th>\n",
       "    </tr>\n",
       "  </thead>\n",
       "  <tbody>\n",
       "    <tr>\n",
       "      <th>count</th>\n",
       "      <td>931</td>\n",
       "      <td>852</td>\n",
       "      <td>998</td>\n",
       "      <td>997</td>\n",
       "      <td>932</td>\n",
       "      <td>957</td>\n",
       "    </tr>\n",
       "    <tr>\n",
       "      <th>unique</th>\n",
       "      <td>201</td>\n",
       "      <td>3</td>\n",
       "      <td>993</td>\n",
       "      <td>968</td>\n",
       "      <td>4</td>\n",
       "      <td>13</td>\n",
       "    </tr>\n",
       "    <tr>\n",
       "      <th>top</th>\n",
       "      <td>Marilyn</td>\n",
       "      <td>Female</td>\n",
       "      <td>91462</td>\n",
       "      <td>8.999</td>\n",
       "      <td>TRUE</td>\n",
       "      <td>Client Services</td>\n",
       "    </tr>\n",
       "    <tr>\n",
       "      <th>freq</th>\n",
       "      <td>11</td>\n",
       "      <td>428</td>\n",
       "      <td>2</td>\n",
       "      <td>3</td>\n",
       "      <td>467</td>\n",
       "      <td>105</td>\n",
       "    </tr>\n",
       "  </tbody>\n",
       "</table>\n",
       "</div>"
      ],
      "text/plain": [
       "       First Name  Gender Salary Bonus % Senior Management             Team\n",
       "count         931     852    998     997               932              957\n",
       "unique        201       3    993     968                 4               13\n",
       "top       Marilyn  Female  91462   8.999              TRUE  Client Services\n",
       "freq           11     428      2       3               467              105"
      ]
     },
     "execution_count": 6,
     "metadata": {},
     "output_type": "execute_result"
    }
   ],
   "source": [
    "employees.describe()"
   ]
  },
  {
   "cell_type": "markdown",
   "id": "351c2402",
   "metadata": {},
   "source": [
    "# Detect and analyze the missing values"
   ]
  },
  {
   "cell_type": "code",
   "execution_count": 7,
   "id": "c2cf69a5",
   "metadata": {},
   "outputs": [
    {
     "data": {
      "text/html": [
       "<div>\n",
       "<style scoped>\n",
       "    .dataframe tbody tr th:only-of-type {\n",
       "        vertical-align: middle;\n",
       "    }\n",
       "\n",
       "    .dataframe tbody tr th {\n",
       "        vertical-align: top;\n",
       "    }\n",
       "\n",
       "    .dataframe thead th {\n",
       "        text-align: right;\n",
       "    }\n",
       "</style>\n",
       "<table border=\"1\" class=\"dataframe\">\n",
       "  <thead>\n",
       "    <tr style=\"text-align: right;\">\n",
       "      <th></th>\n",
       "      <th>First Name</th>\n",
       "      <th>Gender</th>\n",
       "      <th>Salary</th>\n",
       "      <th>Bonus %</th>\n",
       "      <th>Senior Management</th>\n",
       "      <th>Team</th>\n",
       "    </tr>\n",
       "  </thead>\n",
       "  <tbody>\n",
       "    <tr>\n",
       "      <th>0</th>\n",
       "      <td>False</td>\n",
       "      <td>False</td>\n",
       "      <td>False</td>\n",
       "      <td>False</td>\n",
       "      <td>False</td>\n",
       "      <td>False</td>\n",
       "    </tr>\n",
       "    <tr>\n",
       "      <th>1</th>\n",
       "      <td>False</td>\n",
       "      <td>False</td>\n",
       "      <td>False</td>\n",
       "      <td>True</td>\n",
       "      <td>False</td>\n",
       "      <td>True</td>\n",
       "    </tr>\n",
       "    <tr>\n",
       "      <th>2</th>\n",
       "      <td>False</td>\n",
       "      <td>False</td>\n",
       "      <td>False</td>\n",
       "      <td>False</td>\n",
       "      <td>False</td>\n",
       "      <td>False</td>\n",
       "    </tr>\n",
       "    <tr>\n",
       "      <th>3</th>\n",
       "      <td>False</td>\n",
       "      <td>False</td>\n",
       "      <td>True</td>\n",
       "      <td>False</td>\n",
       "      <td>False</td>\n",
       "      <td>False</td>\n",
       "    </tr>\n",
       "    <tr>\n",
       "      <th>4</th>\n",
       "      <td>False</td>\n",
       "      <td>False</td>\n",
       "      <td>False</td>\n",
       "      <td>False</td>\n",
       "      <td>False</td>\n",
       "      <td>False</td>\n",
       "    </tr>\n",
       "  </tbody>\n",
       "</table>\n",
       "</div>"
      ],
      "text/plain": [
       "   First Name  Gender  Salary  Bonus %  Senior Management   Team\n",
       "0       False   False   False    False              False  False\n",
       "1       False   False   False     True              False   True\n",
       "2       False   False   False    False              False  False\n",
       "3       False   False    True    False              False  False\n",
       "4       False   False   False    False              False  False"
      ]
     },
     "execution_count": 7,
     "metadata": {},
     "output_type": "execute_result"
    }
   ],
   "source": [
    "#Nullity (dummy) DataFrame\n",
    "employees_nullity = employees.isnull()\n",
    "employees_nullity.head()"
   ]
  },
  {
   "cell_type": "code",
   "execution_count": 8,
   "id": "6a08b34e",
   "metadata": {},
   "outputs": [
    {
     "data": {
      "text/plain": [
       "First Name            69\n",
       "Gender               148\n",
       "Salary                 2\n",
       "Bonus %                3\n",
       "Senior Management     68\n",
       "Team                  43\n",
       "dtype: int64"
      ]
     },
     "execution_count": 8,
     "metadata": {},
     "output_type": "execute_result"
    }
   ],
   "source": [
    "#Total missing values\n",
    "employees_nullity.sum()"
   ]
  },
  {
   "cell_type": "code",
   "execution_count": 9,
   "id": "eff02e01",
   "metadata": {},
   "outputs": [
    {
     "data": {
      "text/plain": [
       "First Name            6.9\n",
       "Gender               14.8\n",
       "Salary                0.2\n",
       "Bonus %               0.3\n",
       "Senior Management     6.8\n",
       "Team                  4.3\n",
       "dtype: float64"
      ]
     },
     "execution_count": 9,
     "metadata": {},
     "output_type": "execute_result"
    }
   ],
   "source": [
    "#Percentage of missingness\n",
    "employees_nullity.mean()*100"
   ]
  },
  {
   "cell_type": "code",
   "execution_count": 10,
   "id": "a71c28c3",
   "metadata": {},
   "outputs": [
    {
     "data": {
      "text/plain": [
       "<AxesSubplot:>"
      ]
     },
     "execution_count": 10,
     "metadata": {},
     "output_type": "execute_result"
    },
    {
     "data": {
      "image/png": "[encoded data removed]",
      "text/plain": [
       "<Figure size 1728x720 with 3 Axes>"
      ]
     },
     "metadata": {
      "needs_background": "light"
     },
     "output_type": "display_data"
    }
   ],
   "source": [
    "#Nullity Bar using Missingno package (package for graphical analysis of missing values)\n",
    "import missingno as msno\n",
    "msno.bar(employees)"
   ]
  },
  {
   "cell_type": "code",
   "execution_count": 11,
   "id": "2d666ea6",
   "metadata": {
    "scrolled": true
   },
   "outputs": [
    {
     "data": {
      "text/plain": [
       "<AxesSubplot:>"
      ]
     },
     "execution_count": 11,
     "metadata": {},
     "output_type": "execute_result"
    },
    {
     "data": {
      "image/png": "[encoded data removed]",
      "text/plain": [
       "<Figure size 1800x720 with 2 Axes>"
      ]
     },
     "metadata": {
      "needs_background": "light"
     },
     "output_type": "display_data"
    }
   ],
   "source": [
    "#Nullity Matrix: the plot describes the nullity in the dataset using the white blanks\n",
    "msno.matrix(employees)\n",
    "#The 2 on the right is the minimum number of missing values\n",
    "#6 is the total number of columns"
   ]
  },
  {
   "cell_type": "markdown",
   "id": "409f3998",
   "metadata": {},
   "source": [
    "# Finding patterns in missing data"
   ]
  },
  {
   "cell_type": "code",
   "execution_count": 12,
   "id": "892b5446",
   "metadata": {},
   "outputs": [
    {
     "data": {
      "text/plain": [
       "<AxesSubplot:>"
      ]
     },
     "execution_count": 12,
     "metadata": {},
     "output_type": "execute_result"
    },
    {
     "data": {
      "image/png": "[encoded data removed]",
      "text/plain": [
       "<Figure size 1440x864 with 2 Axes>"
      ]
     },
     "metadata": {
      "needs_background": "light"
     },
     "output_type": "display_data"
    }
   ],
   "source": [
    "#Missingness Heatmap\n",
    "#Graph of correlation of missing values between columns\n",
    "msno.heatmap(employees)"
   ]
  },
  {
   "cell_type": "raw",
   "id": "ce9ee829",
   "metadata": {},
   "source": [
    "In the graph, the redder the color, the lower the correlation between the missing values.\n",
    "The bluer it is, the higher the correlation of missingness."
   ]
  },
  {
   "cell_type": "code",
   "execution_count": 13,
   "id": "e4d44302",
   "metadata": {},
   "outputs": [
    {
     "data": {
      "text/plain": [
       "<AxesSubplot:>"
      ]
     },
     "execution_count": 13,
     "metadata": {},
     "output_type": "execute_result"
    },
    {
     "data": {
      "image/png": "[encoded data removed]",
      "text/plain": [
       "<Figure size 1800x720 with 1 Axes>"
      ]
     },
     "metadata": {
      "needs_background": "light"
     },
     "output_type": "display_data"
    }
   ],
   "source": [
    "#Missingness Dengrogram: Tree diagram of missingness\n",
    "#It describes correlation of variables by grouping them\n",
    "msno.dendrogram(employees)"
   ]
  },
  {
   "cell_type": "raw",
   "id": "ed2ad0c8",
   "metadata": {},
   "source": [
    "The arrangement of the clades (nodes) tells us which leaves are most similar to each other.\n",
    "Numbers on the left represent the similarity between columns: The greater the height, the greater the difference. \n",
    "In this graph, the senior management and the first name are most similar to each other than all the other groups. Then comes the bonus and the salary's group .etc."
   ]
  },
  {
   "cell_type": "markdown",
   "id": "5cb1d782",
   "metadata": {},
   "source": [
    "# Listwise deletion or complete case"
   ]
  },
  {
   "cell_type": "raw",
   "id": "ca87de21",
   "metadata": {},
   "source": [
    "It is recommended to use when the number of missing values is very small.\n",
    "Deletion is used only when values are MCAR.\n",
    "For instance, we can use this method on the salary and the bonus's columns which contain only 2 and 3 missing values."
   ]
  },
  {
   "cell_type": "code",
   "execution_count": 14,
   "id": "d580c0fe",
   "metadata": {},
   "outputs": [],
   "source": [
    "employees_delete = employees.copy(deep=True)"
   ]
  },
  {
   "cell_type": "code",
   "execution_count": 15,
   "id": "5928dce8",
   "metadata": {},
   "outputs": [
    {
     "name": "stdout",
     "output_type": "stream",
     "text": [
      "Number of missing values of the Salary's column: 2\n"
     ]
    }
   ],
   "source": [
    "print(\"Number of missing values of the Salary's column:\", employees_delete['Salary'].isnull().sum())\n"
   ]
  },
  {
   "cell_type": "code",
   "execution_count": 16,
   "id": "3152fac6",
   "metadata": {},
   "outputs": [
    {
     "name": "stdout",
     "output_type": "stream",
     "text": [
      "Number of missing values of the Bonus's column: 3\n"
     ]
    }
   ],
   "source": [
    "print(\"Number of missing values of the Bonus's column:\",employees_delete['Bonus %'].isnull().sum())\n"
   ]
  },
  {
   "cell_type": "code",
   "execution_count": 17,
   "id": "ac506b4e",
   "metadata": {},
   "outputs": [],
   "source": [
    "#Deletion of the Salary's missing values rows\n",
    "employees_delete.dropna(subset=[\"Salary\"], how='any', inplace=True)"
   ]
  },
  {
   "cell_type": "code",
   "execution_count": 18,
   "id": "a5ead2c9",
   "metadata": {},
   "outputs": [
    {
     "data": {
      "text/plain": [
       "<AxesSubplot:>"
      ]
     },
     "execution_count": 18,
     "metadata": {},
     "output_type": "execute_result"
    },
    {
     "data": {
      "image/png": "[encoded data removed]",
      "text/plain": [
       "<Figure size 1800x720 with 2 Axes>"
      ]
     },
     "metadata": {
      "needs_background": "light"
     },
     "output_type": "display_data"
    }
   ],
   "source": [
    "#Now we can visualize that the rows have been deleted\n",
    "msno.matrix(employees_delete)"
   ]
  },
  {
   "cell_type": "code",
   "execution_count": 19,
   "id": "d7822793",
   "metadata": {},
   "outputs": [
    {
     "data": {
      "text/plain": [
       "<AxesSubplot:>"
      ]
     },
     "execution_count": 19,
     "metadata": {},
     "output_type": "execute_result"
    },
    {
     "data": {
      "image/png": "[encoded data removed]",
      "text/plain": [
       "<Figure size 1728x720 with 3 Axes>"
      ]
     },
     "metadata": {
      "needs_background": "light"
     },
     "output_type": "display_data"
    }
   ],
   "source": [
    "msno.bar(employees)"
   ]
  },
  {
   "cell_type": "markdown",
   "id": "9e2ec836",
   "metadata": {},
   "source": [
    "# Basic Imputation Techniques"
   ]
  },
  {
   "cell_type": "markdown",
   "id": "f7b3052f",
   "metadata": {},
   "source": [
    "## Mean, Median & Mode imputations "
   ]
  },
  {
   "cell_type": "markdown",
   "id": "cd094f5e",
   "metadata": {},
   "source": [
    "### Mean Imputation "
   ]
  },
  {
   "cell_type": "code",
   "execution_count": 20,
   "id": "c02042ee",
   "metadata": {},
   "outputs": [],
   "source": [
    "#Create a copy of the dataset\n",
    "employees_mean = employees.copy(deep=True)"
   ]
  },
  {
   "cell_type": "code",
   "execution_count": 21,
   "id": "72ce6e59",
   "metadata": {},
   "outputs": [
    {
     "data": {
      "text/plain": [
       "First Name            object\n",
       "Gender                object\n",
       "Salary               float64\n",
       "Bonus %              float64\n",
       "Senior Management     object\n",
       "Team                  object\n",
       "dtype: object"
      ]
     },
     "execution_count": 21,
     "metadata": {},
     "output_type": "execute_result"
    }
   ],
   "source": [
    "#Replace all the string values (strings) in Salary and Bonus % with 0 in order to convert them later\n",
    "employees_mean = employees_mean.replace('n.a.','NaN')\n",
    "employees_mean = employees_mean.replace('?','NaN')\n",
    "\n",
    "#Convert the columns from object to float\n",
    "employees_mean=employees_mean.astype({'Salary':'float', 'Bonus %':'float'})\n",
    "employees_mean.dtypes\n"
   ]
  },
  {
   "cell_type": "code",
   "execution_count": 22,
   "id": "93f0680f",
   "metadata": {},
   "outputs": [
    {
     "data": {
      "text/plain": [
       "3     NaN\n",
       "8     NaN\n",
       "319   NaN\n",
       "349   NaN\n",
       "427   NaN\n",
       "Name: Salary, dtype: float64"
      ]
     },
     "execution_count": 22,
     "metadata": {},
     "output_type": "execute_result"
    }
   ],
   "source": [
    "#Check the Salary column\n",
    "employees_mean.Salary[employees_mean.Salary.isna()]"
   ]
  },
  {
   "cell_type": "code",
   "execution_count": 23,
   "id": "4c90e0ab",
   "metadata": {},
   "outputs": [
    {
     "data": {
      "text/plain": [
       "1    NaN\n",
       "14   NaN\n",
       "47   NaN\n",
       "75   NaN\n",
       "Name: Bonus %, dtype: float64"
      ]
     },
     "execution_count": 23,
     "metadata": {},
     "output_type": "execute_result"
    }
   ],
   "source": [
    "#Check the Bonus % column\n",
    "employees_mean['Bonus %'][employees_mean['Bonus %'].isna()]"
   ]
  },
  {
   "cell_type": "code",
   "execution_count": 24,
   "id": "d92ef8c7",
   "metadata": {},
   "outputs": [
    {
     "name": "stdout",
     "output_type": "stream",
     "text": [
      "Before the imputation:\n"
     ]
    },
    {
     "data": {
      "text/html": [
       "<div>\n",
       "<style scoped>\n",
       "    .dataframe tbody tr th:only-of-type {\n",
       "        vertical-align: middle;\n",
       "    }\n",
       "\n",
       "    .dataframe tbody tr th {\n",
       "        vertical-align: top;\n",
       "    }\n",
       "\n",
       "    .dataframe thead th {\n",
       "        text-align: right;\n",
       "    }\n",
       "</style>\n",
       "<table border=\"1\" class=\"dataframe\">\n",
       "  <thead>\n",
       "    <tr style=\"text-align: right;\">\n",
       "      <th></th>\n",
       "      <th>Salary</th>\n",
       "      <th>Bonus %</th>\n",
       "    </tr>\n",
       "  </thead>\n",
       "  <tbody>\n",
       "    <tr>\n",
       "      <th>0</th>\n",
       "      <td>97308.0</td>\n",
       "      <td>6.945</td>\n",
       "    </tr>\n",
       "    <tr>\n",
       "      <th>1</th>\n",
       "      <td>61933.0</td>\n",
       "      <td>NaN</td>\n",
       "    </tr>\n",
       "    <tr>\n",
       "      <th>2</th>\n",
       "      <td>130590.0</td>\n",
       "      <td>11.858</td>\n",
       "    </tr>\n",
       "    <tr>\n",
       "      <th>3</th>\n",
       "      <td>NaN</td>\n",
       "      <td>9.340</td>\n",
       "    </tr>\n",
       "    <tr>\n",
       "      <th>4</th>\n",
       "      <td>101004.0</td>\n",
       "      <td>1.389</td>\n",
       "    </tr>\n",
       "  </tbody>\n",
       "</table>\n",
       "</div>"
      ],
      "text/plain": [
       "     Salary  Bonus %\n",
       "0   97308.0    6.945\n",
       "1   61933.0      NaN\n",
       "2  130590.0   11.858\n",
       "3       NaN    9.340\n",
       "4  101004.0    1.389"
      ]
     },
     "execution_count": 24,
     "metadata": {},
     "output_type": "execute_result"
    }
   ],
   "source": [
    "from sklearn.impute import SimpleImputer\n",
    "mean_imputer = SimpleImputer(strategy='mean')\n",
    "\n",
    "#Before the imputation\n",
    "print('Before the imputation:')\n",
    "employees_mean.iloc[:, 2:4].head()\n"
   ]
  },
  {
   "cell_type": "code",
   "execution_count": 25,
   "id": "e4060395",
   "metadata": {},
   "outputs": [
    {
     "name": "stdout",
     "output_type": "stream",
     "text": [
      "After the imputation:\n"
     ]
    },
    {
     "data": {
      "text/html": [
       "<div>\n",
       "<style scoped>\n",
       "    .dataframe tbody tr th:only-of-type {\n",
       "        vertical-align: middle;\n",
       "    }\n",
       "\n",
       "    .dataframe tbody tr th {\n",
       "        vertical-align: top;\n",
       "    }\n",
       "\n",
       "    .dataframe thead th {\n",
       "        text-align: right;\n",
       "    }\n",
       "</style>\n",
       "<table border=\"1\" class=\"dataframe\">\n",
       "  <thead>\n",
       "    <tr style=\"text-align: right;\">\n",
       "      <th></th>\n",
       "      <th>Salary</th>\n",
       "      <th>Bonus %</th>\n",
       "    </tr>\n",
       "  </thead>\n",
       "  <tbody>\n",
       "    <tr>\n",
       "      <th>0</th>\n",
       "      <td>97308.000000</td>\n",
       "      <td>6.945000</td>\n",
       "    </tr>\n",
       "    <tr>\n",
       "      <th>1</th>\n",
       "      <td>61933.000000</td>\n",
       "      <td>10.215586</td>\n",
       "    </tr>\n",
       "    <tr>\n",
       "      <th>2</th>\n",
       "      <td>130590.000000</td>\n",
       "      <td>11.858000</td>\n",
       "    </tr>\n",
       "    <tr>\n",
       "      <th>3</th>\n",
       "      <td>90522.329648</td>\n",
       "      <td>9.340000</td>\n",
       "    </tr>\n",
       "    <tr>\n",
       "      <th>4</th>\n",
       "      <td>101004.000000</td>\n",
       "      <td>1.389000</td>\n",
       "    </tr>\n",
       "  </tbody>\n",
       "</table>\n",
       "</div>"
      ],
      "text/plain": [
       "          Salary    Bonus %\n",
       "0   97308.000000   6.945000\n",
       "1   61933.000000  10.215586\n",
       "2  130590.000000  11.858000\n",
       "3   90522.329648   9.340000\n",
       "4  101004.000000   1.389000"
      ]
     },
     "execution_count": 25,
     "metadata": {},
     "output_type": "execute_result"
    }
   ],
   "source": [
    "print('After the imputation:')\n",
    "emp_sal_bon = employees_mean[['Salary','Bonus %']]\n",
    "employees_mean.iloc[:, 2:4] = mean_imputer.fit_transform(emp_sal_bon)\n",
    "employees_mean.iloc[:, 2:4].head()"
   ]
  },
  {
   "cell_type": "markdown",
   "id": "3097f160",
   "metadata": {},
   "source": [
    "### Median Imputation "
   ]
  },
  {
   "cell_type": "code",
   "execution_count": 26,
   "id": "438018fa",
   "metadata": {},
   "outputs": [],
   "source": [
    "#Create a copy of the dataset\n",
    "employees_median = employees.copy(deep=True)"
   ]
  },
  {
   "cell_type": "code",
   "execution_count": 27,
   "id": "1c7ef805",
   "metadata": {},
   "outputs": [
    {
     "data": {
      "text/plain": [
       "First Name            object\n",
       "Gender                object\n",
       "Salary               float64\n",
       "Bonus %              float64\n",
       "Senior Management     object\n",
       "Team                  object\n",
       "dtype: object"
      ]
     },
     "execution_count": 27,
     "metadata": {},
     "output_type": "execute_result"
    }
   ],
   "source": [
    "#Replace all the string values (strings) in Salary and Bonus % with 0 in order to convert them later\n",
    "employees_median = employees_median.replace('n.a.','NaN')\n",
    "employees_median = employees_median.replace('?','NaN')\n",
    "\n",
    "#Convert the columns from object to float\n",
    "employees_median=employees_median.astype({'Salary':'float', 'Bonus %':'float'})\n",
    "employees_median.dtypes\n"
   ]
  },
  {
   "cell_type": "code",
   "execution_count": 28,
   "id": "5da8902e",
   "metadata": {},
   "outputs": [
    {
     "name": "stdout",
     "output_type": "stream",
     "text": [
      "Before the imputation:\n"
     ]
    },
    {
     "data": {
      "text/html": [
       "<div>\n",
       "<style scoped>\n",
       "    .dataframe tbody tr th:only-of-type {\n",
       "        vertical-align: middle;\n",
       "    }\n",
       "\n",
       "    .dataframe tbody tr th {\n",
       "        vertical-align: top;\n",
       "    }\n",
       "\n",
       "    .dataframe thead th {\n",
       "        text-align: right;\n",
       "    }\n",
       "</style>\n",
       "<table border=\"1\" class=\"dataframe\">\n",
       "  <thead>\n",
       "    <tr style=\"text-align: right;\">\n",
       "      <th></th>\n",
       "      <th>Salary</th>\n",
       "      <th>Bonus %</th>\n",
       "    </tr>\n",
       "  </thead>\n",
       "  <tbody>\n",
       "    <tr>\n",
       "      <th>0</th>\n",
       "      <td>97308.0</td>\n",
       "      <td>6.945</td>\n",
       "    </tr>\n",
       "    <tr>\n",
       "      <th>1</th>\n",
       "      <td>61933.0</td>\n",
       "      <td>NaN</td>\n",
       "    </tr>\n",
       "    <tr>\n",
       "      <th>2</th>\n",
       "      <td>130590.0</td>\n",
       "      <td>11.858</td>\n",
       "    </tr>\n",
       "    <tr>\n",
       "      <th>3</th>\n",
       "      <td>NaN</td>\n",
       "      <td>9.340</td>\n",
       "    </tr>\n",
       "    <tr>\n",
       "      <th>4</th>\n",
       "      <td>101004.0</td>\n",
       "      <td>1.389</td>\n",
       "    </tr>\n",
       "  </tbody>\n",
       "</table>\n",
       "</div>"
      ],
      "text/plain": [
       "     Salary  Bonus %\n",
       "0   97308.0    6.945\n",
       "1   61933.0      NaN\n",
       "2  130590.0   11.858\n",
       "3       NaN    9.340\n",
       "4  101004.0    1.389"
      ]
     },
     "execution_count": 28,
     "metadata": {},
     "output_type": "execute_result"
    }
   ],
   "source": [
    "#Before the imputation\n",
    "print('Before the imputation:')\n",
    "employees_median.iloc[:, 2:4].head()"
   ]
  },
  {
   "cell_type": "code",
   "execution_count": 29,
   "id": "ec1325b0",
   "metadata": {},
   "outputs": [
    {
     "name": "stdout",
     "output_type": "stream",
     "text": [
      "After the imputation:\n"
     ]
    },
    {
     "data": {
      "text/html": [
       "<div>\n",
       "<style scoped>\n",
       "    .dataframe tbody tr th:only-of-type {\n",
       "        vertical-align: middle;\n",
       "    }\n",
       "\n",
       "    .dataframe tbody tr th {\n",
       "        vertical-align: top;\n",
       "    }\n",
       "\n",
       "    .dataframe thead th {\n",
       "        text-align: right;\n",
       "    }\n",
       "</style>\n",
       "<table border=\"1\" class=\"dataframe\">\n",
       "  <thead>\n",
       "    <tr style=\"text-align: right;\">\n",
       "      <th></th>\n",
       "      <th>Salary</th>\n",
       "      <th>Bonus %</th>\n",
       "    </tr>\n",
       "  </thead>\n",
       "  <tbody>\n",
       "    <tr>\n",
       "      <th>0</th>\n",
       "      <td>97308.0</td>\n",
       "      <td>6.945</td>\n",
       "    </tr>\n",
       "    <tr>\n",
       "      <th>1</th>\n",
       "      <td>61933.0</td>\n",
       "      <td>9.850</td>\n",
       "    </tr>\n",
       "    <tr>\n",
       "      <th>2</th>\n",
       "      <td>130590.0</td>\n",
       "      <td>11.858</td>\n",
       "    </tr>\n",
       "    <tr>\n",
       "      <th>3</th>\n",
       "      <td>90370.0</td>\n",
       "      <td>9.340</td>\n",
       "    </tr>\n",
       "    <tr>\n",
       "      <th>4</th>\n",
       "      <td>101004.0</td>\n",
       "      <td>1.389</td>\n",
       "    </tr>\n",
       "  </tbody>\n",
       "</table>\n",
       "</div>"
      ],
      "text/plain": [
       "     Salary  Bonus %\n",
       "0   97308.0    6.945\n",
       "1   61933.0    9.850\n",
       "2  130590.0   11.858\n",
       "3   90370.0    9.340\n",
       "4  101004.0    1.389"
      ]
     },
     "execution_count": 29,
     "metadata": {},
     "output_type": "execute_result"
    }
   ],
   "source": [
    "print('After the imputation:')\n",
    "median_imputer = SimpleImputer(strategy='median')\n",
    "emp_sal_bon = employees_median[['Salary','Bonus %']]\n",
    "employees_median.iloc[:, 2:4] = median_imputer.fit_transform(emp_sal_bon)\n",
    "employees_median.iloc[:, 2:4].head()"
   ]
  },
  {
   "cell_type": "markdown",
   "id": "4064d0e1",
   "metadata": {},
   "source": [
    "### Mode Imputation "
   ]
  },
  {
   "cell_type": "code",
   "execution_count": 30,
   "id": "38cc3fd7",
   "metadata": {},
   "outputs": [],
   "source": [
    "#Create a copy of the dataset\n",
    "employees_mode = employees.copy(deep=True)"
   ]
  },
  {
   "cell_type": "code",
   "execution_count": 31,
   "id": "d9850d49",
   "metadata": {},
   "outputs": [
    {
     "data": {
      "text/plain": [
       "First Name            object\n",
       "Gender                object\n",
       "Salary               float64\n",
       "Bonus %              float64\n",
       "Senior Management     object\n",
       "Team                  object\n",
       "dtype: object"
      ]
     },
     "execution_count": 31,
     "metadata": {},
     "output_type": "execute_result"
    }
   ],
   "source": [
    "#Replace all the string values (strings) in Salary and Bonus % with 0 in order to convert them later\n",
    "employees_mode = employees_mode.replace('n.a.','NaN')\n",
    "employees_mode = employees_mode.replace('?','NaN')\n",
    "\n",
    "#Convert the columns from object to float\n",
    "employees_mode=employees_mode.astype({'Salary':'float', 'Bonus %':'float'})\n",
    "employees_mode.dtypes\n"
   ]
  },
  {
   "cell_type": "code",
   "execution_count": 32,
   "id": "0732d641",
   "metadata": {},
   "outputs": [
    {
     "name": "stdout",
     "output_type": "stream",
     "text": [
      "Before the imputation:\n"
     ]
    },
    {
     "data": {
      "text/html": [
       "<div>\n",
       "<style scoped>\n",
       "    .dataframe tbody tr th:only-of-type {\n",
       "        vertical-align: middle;\n",
       "    }\n",
       "\n",
       "    .dataframe tbody tr th {\n",
       "        vertical-align: top;\n",
       "    }\n",
       "\n",
       "    .dataframe thead th {\n",
       "        text-align: right;\n",
       "    }\n",
       "</style>\n",
       "<table border=\"1\" class=\"dataframe\">\n",
       "  <thead>\n",
       "    <tr style=\"text-align: right;\">\n",
       "      <th></th>\n",
       "      <th>Salary</th>\n",
       "      <th>Bonus %</th>\n",
       "    </tr>\n",
       "  </thead>\n",
       "  <tbody>\n",
       "    <tr>\n",
       "      <th>0</th>\n",
       "      <td>97308.0</td>\n",
       "      <td>6.945</td>\n",
       "    </tr>\n",
       "    <tr>\n",
       "      <th>1</th>\n",
       "      <td>61933.0</td>\n",
       "      <td>NaN</td>\n",
       "    </tr>\n",
       "    <tr>\n",
       "      <th>2</th>\n",
       "      <td>130590.0</td>\n",
       "      <td>11.858</td>\n",
       "    </tr>\n",
       "    <tr>\n",
       "      <th>3</th>\n",
       "      <td>NaN</td>\n",
       "      <td>9.340</td>\n",
       "    </tr>\n",
       "    <tr>\n",
       "      <th>4</th>\n",
       "      <td>101004.0</td>\n",
       "      <td>1.389</td>\n",
       "    </tr>\n",
       "  </tbody>\n",
       "</table>\n",
       "</div>"
      ],
      "text/plain": [
       "     Salary  Bonus %\n",
       "0   97308.0    6.945\n",
       "1   61933.0      NaN\n",
       "2  130590.0   11.858\n",
       "3       NaN    9.340\n",
       "4  101004.0    1.389"
      ]
     },
     "execution_count": 32,
     "metadata": {},
     "output_type": "execute_result"
    }
   ],
   "source": [
    "#Before the imputation\n",
    "print('Before the imputation:')\n",
    "employees_mode.iloc[:, 2:4].head()"
   ]
  },
  {
   "cell_type": "code",
   "execution_count": 33,
   "id": "aeda26ce",
   "metadata": {},
   "outputs": [
    {
     "name": "stdout",
     "output_type": "stream",
     "text": [
      "After the imputation:\n"
     ]
    },
    {
     "data": {
      "text/html": [
       "<div>\n",
       "<style scoped>\n",
       "    .dataframe tbody tr th:only-of-type {\n",
       "        vertical-align: middle;\n",
       "    }\n",
       "\n",
       "    .dataframe tbody tr th {\n",
       "        vertical-align: top;\n",
       "    }\n",
       "\n",
       "    .dataframe thead th {\n",
       "        text-align: right;\n",
       "    }\n",
       "</style>\n",
       "<table border=\"1\" class=\"dataframe\">\n",
       "  <thead>\n",
       "    <tr style=\"text-align: right;\">\n",
       "      <th></th>\n",
       "      <th>Salary</th>\n",
       "      <th>Bonus %</th>\n",
       "    </tr>\n",
       "  </thead>\n",
       "  <tbody>\n",
       "    <tr>\n",
       "      <th>0</th>\n",
       "      <td>97308.0</td>\n",
       "      <td>6.945</td>\n",
       "    </tr>\n",
       "    <tr>\n",
       "      <th>1</th>\n",
       "      <td>61933.0</td>\n",
       "      <td>8.999</td>\n",
       "    </tr>\n",
       "    <tr>\n",
       "      <th>2</th>\n",
       "      <td>130590.0</td>\n",
       "      <td>11.858</td>\n",
       "    </tr>\n",
       "    <tr>\n",
       "      <th>3</th>\n",
       "      <td>86676.0</td>\n",
       "      <td>9.340</td>\n",
       "    </tr>\n",
       "    <tr>\n",
       "      <th>4</th>\n",
       "      <td>101004.0</td>\n",
       "      <td>1.389</td>\n",
       "    </tr>\n",
       "  </tbody>\n",
       "</table>\n",
       "</div>"
      ],
      "text/plain": [
       "     Salary  Bonus %\n",
       "0   97308.0    6.945\n",
       "1   61933.0    8.999\n",
       "2  130590.0   11.858\n",
       "3   86676.0    9.340\n",
       "4  101004.0    1.389"
      ]
     },
     "execution_count": 33,
     "metadata": {},
     "output_type": "execute_result"
    }
   ],
   "source": [
    "print('After the imputation:')\n",
    "mode_imputer = SimpleImputer(strategy='most_frequent')\n",
    "emp_sal_bon = employees_mode[['Salary','Bonus %']]\n",
    "employees_mode.iloc[:, 2:4] = mode_imputer.fit_transform(emp_sal_bon)\n",
    "employees_mode.iloc[:, 2:4].head()"
   ]
  },
  {
   "cell_type": "code",
   "execution_count": 58,
   "id": "731af5de",
   "metadata": {},
   "outputs": [
    {
     "data": {
      "text/plain": [
       "First Name            69\n",
       "Gender               148\n",
       "Salary                 0\n",
       "Bonus %                0\n",
       "Senior Management     68\n",
       "Team                  43\n",
       "dtype: int64"
      ]
     },
     "execution_count": 58,
     "metadata": {},
     "output_type": "execute_result"
    }
   ],
   "source": [
    "employees_mode.isnull().sum()"
   ]
  },
  {
   "cell_type": "markdown",
   "id": "30df79e1",
   "metadata": {},
   "source": [
    "### Constant Imputation "
   ]
  },
  {
   "cell_type": "code",
   "execution_count": 34,
   "id": "3647a4a2",
   "metadata": {},
   "outputs": [],
   "source": [
    "#Create a copy of the dataset\n",
    "employees_constant = employees.copy(deep=True)"
   ]
  },
  {
   "cell_type": "code",
   "execution_count": 35,
   "id": "302e355f",
   "metadata": {},
   "outputs": [
    {
     "data": {
      "text/plain": [
       "First Name            object\n",
       "Gender                object\n",
       "Salary               float64\n",
       "Bonus %              float64\n",
       "Senior Management     object\n",
       "Team                  object\n",
       "dtype: object"
      ]
     },
     "execution_count": 35,
     "metadata": {},
     "output_type": "execute_result"
    }
   ],
   "source": [
    "#Replace all the string values (strings) in Salary and Bonus % with 0 in order to convert them later\n",
    "employees_constant = employees_constant.replace('n.a.','NaN')\n",
    "employees_constant = employees_constant.replace('?','NaN')\n",
    "\n",
    "#Convert the columns from object to float\n",
    "employees_constant=employees_constant.astype({'Salary':'float', 'Bonus %':'float'})\n",
    "employees_constant.dtypes\n"
   ]
  },
  {
   "cell_type": "code",
   "execution_count": 36,
   "id": "013ceb1b",
   "metadata": {},
   "outputs": [
    {
     "name": "stdout",
     "output_type": "stream",
     "text": [
      "Before the imputation:\n"
     ]
    },
    {
     "data": {
      "text/html": [
       "<div>\n",
       "<style scoped>\n",
       "    .dataframe tbody tr th:only-of-type {\n",
       "        vertical-align: middle;\n",
       "    }\n",
       "\n",
       "    .dataframe tbody tr th {\n",
       "        vertical-align: top;\n",
       "    }\n",
       "\n",
       "    .dataframe thead th {\n",
       "        text-align: right;\n",
       "    }\n",
       "</style>\n",
       "<table border=\"1\" class=\"dataframe\">\n",
       "  <thead>\n",
       "    <tr style=\"text-align: right;\">\n",
       "      <th></th>\n",
       "      <th>Salary</th>\n",
       "      <th>Bonus %</th>\n",
       "    </tr>\n",
       "  </thead>\n",
       "  <tbody>\n",
       "    <tr>\n",
       "      <th>0</th>\n",
       "      <td>97308.0</td>\n",
       "      <td>6.945</td>\n",
       "    </tr>\n",
       "    <tr>\n",
       "      <th>1</th>\n",
       "      <td>61933.0</td>\n",
       "      <td>NaN</td>\n",
       "    </tr>\n",
       "    <tr>\n",
       "      <th>2</th>\n",
       "      <td>130590.0</td>\n",
       "      <td>11.858</td>\n",
       "    </tr>\n",
       "    <tr>\n",
       "      <th>3</th>\n",
       "      <td>NaN</td>\n",
       "      <td>9.340</td>\n",
       "    </tr>\n",
       "    <tr>\n",
       "      <th>4</th>\n",
       "      <td>101004.0</td>\n",
       "      <td>1.389</td>\n",
       "    </tr>\n",
       "  </tbody>\n",
       "</table>\n",
       "</div>"
      ],
      "text/plain": [
       "     Salary  Bonus %\n",
       "0   97308.0    6.945\n",
       "1   61933.0      NaN\n",
       "2  130590.0   11.858\n",
       "3       NaN    9.340\n",
       "4  101004.0    1.389"
      ]
     },
     "execution_count": 36,
     "metadata": {},
     "output_type": "execute_result"
    }
   ],
   "source": [
    "#Before the imputation\n",
    "print('Before the imputation:')\n",
    "employees_constant.iloc[:, 2:4].head()"
   ]
  },
  {
   "cell_type": "code",
   "execution_count": 37,
   "id": "139c2770",
   "metadata": {},
   "outputs": [
    {
     "name": "stdout",
     "output_type": "stream",
     "text": [
      "After the imputation:\n"
     ]
    },
    {
     "data": {
      "text/html": [
       "<div>\n",
       "<style scoped>\n",
       "    .dataframe tbody tr th:only-of-type {\n",
       "        vertical-align: middle;\n",
       "    }\n",
       "\n",
       "    .dataframe tbody tr th {\n",
       "        vertical-align: top;\n",
       "    }\n",
       "\n",
       "    .dataframe thead th {\n",
       "        text-align: right;\n",
       "    }\n",
       "</style>\n",
       "<table border=\"1\" class=\"dataframe\">\n",
       "  <thead>\n",
       "    <tr style=\"text-align: right;\">\n",
       "      <th></th>\n",
       "      <th>Salary</th>\n",
       "      <th>Bonus %</th>\n",
       "    </tr>\n",
       "  </thead>\n",
       "  <tbody>\n",
       "    <tr>\n",
       "      <th>0</th>\n",
       "      <td>97308.0</td>\n",
       "      <td>6.945</td>\n",
       "    </tr>\n",
       "    <tr>\n",
       "      <th>1</th>\n",
       "      <td>61933.0</td>\n",
       "      <td>0.000</td>\n",
       "    </tr>\n",
       "    <tr>\n",
       "      <th>2</th>\n",
       "      <td>130590.0</td>\n",
       "      <td>11.858</td>\n",
       "    </tr>\n",
       "    <tr>\n",
       "      <th>3</th>\n",
       "      <td>0.0</td>\n",
       "      <td>9.340</td>\n",
       "    </tr>\n",
       "    <tr>\n",
       "      <th>4</th>\n",
       "      <td>101004.0</td>\n",
       "      <td>1.389</td>\n",
       "    </tr>\n",
       "  </tbody>\n",
       "</table>\n",
       "</div>"
      ],
      "text/plain": [
       "     Salary  Bonus %\n",
       "0   97308.0    6.945\n",
       "1   61933.0    0.000\n",
       "2  130590.0   11.858\n",
       "3       0.0    9.340\n",
       "4  101004.0    1.389"
      ]
     },
     "execution_count": 37,
     "metadata": {},
     "output_type": "execute_result"
    }
   ],
   "source": [
    "print('After the imputation:')\n",
    "constant_imputer = SimpleImputer(strategy='constant', fill_value=0)\n",
    "emp_sal_bon = employees_constant[['Salary','Bonus %']]\n",
    "employees_constant.iloc[:, 2:4] = constant_imputer.fit_transform(emp_sal_bon)\n",
    "employees_constant.iloc[:, 2:4].head()"
   ]
  },
  {
   "cell_type": "code",
   "execution_count": 57,
   "id": "9b5fd788",
   "metadata": {},
   "outputs": [
    {
     "data": {
      "text/plain": [
       "First Name            69\n",
       "Gender               148\n",
       "Salary                 0\n",
       "Bonus %                0\n",
       "Senior Management     68\n",
       "Team                  43\n",
       "dtype: int64"
      ]
     },
     "execution_count": 57,
     "metadata": {},
     "output_type": "execute_result"
    }
   ],
   "source": [
    "employees_constant.isnull().sum()"
   ]
  },
  {
   "cell_type": "raw",
   "id": "ba3b4ae0",
   "metadata": {},
   "source": [
    "import matplotlib.pyplot as plt\n",
    "fig, axes = plt.subplots(nrows=2, ncols=2, figsize=(10, 10))\n",
    "nullity = employees['Salary'].isnull() + employees['Bonus %'].isnull()\n",
    "imputations={'Mean Imputation': employees_mean,\n",
    "             'Median Imputation': employees_median,\n",
    "             'Mode Imputation': employees_mode,\n",
    "             'Constant Imputation': employees_constant}\n",
    "\n",
    "for ax, df_key in zip(axes.flatten(), imputations):\n",
    "    imputations[df_key].plot(x='Bonus %', y='Salary', kind='scatter', alpha=0.5, c=nullity, cmap='rainbow', ax=ax, colorbar=False, title=df_key)"
   ]
  },
  {
   "cell_type": "markdown",
   "id": "3c61fbbe",
   "metadata": {},
   "source": [
    "# Advanced Imputation Techniques"
   ]
  },
  {
   "cell_type": "markdown",
   "id": "c2ab03bc",
   "metadata": {},
   "source": [
    "## K-Nearest Neighbor Imputation"
   ]
  },
  {
   "cell_type": "markdown",
   "id": "b101f5f6",
   "metadata": {},
   "source": [
    "## On numerical columns (Salary and Bonus)"
   ]
  },
  {
   "cell_type": "code",
   "execution_count": 52,
   "id": "bf9010a2",
   "metadata": {},
   "outputs": [
    {
     "data": {
      "text/plain": [
       "First Name            object\n",
       "Gender                object\n",
       "Salary               float64\n",
       "Bonus %              float64\n",
       "Senior Management     object\n",
       "Team                  object\n",
       "dtype: object"
      ]
     },
     "execution_count": 52,
     "metadata": {},
     "output_type": "execute_result"
    }
   ],
   "source": [
    "employees_knn = employees.copy(deep=True)\n",
    "#Replace all the string values in Salary and Bonus % with 0 in order to convert them to float\n",
    "employees_knn = employees_knn.replace('n.a.','NaN')\n",
    "employees_knn = employees_knn.replace('?','NaN')\n",
    "\n",
    "#Convert the columns from object to float\n",
    "employees_knn=employees_knn.astype({'Salary':'float', 'Bonus %':'float'})\n",
    "employees_knn.dtypes"
   ]
  },
  {
   "cell_type": "code",
   "execution_count": 53,
   "id": "06366965",
   "metadata": {},
   "outputs": [
    {
     "data": {
      "text/html": [
       "<div>\n",
       "<style scoped>\n",
       "    .dataframe tbody tr th:only-of-type {\n",
       "        vertical-align: middle;\n",
       "    }\n",
       "\n",
       "    .dataframe tbody tr th {\n",
       "        vertical-align: top;\n",
       "    }\n",
       "\n",
       "    .dataframe thead th {\n",
       "        text-align: right;\n",
       "    }\n",
       "</style>\n",
       "<table border=\"1\" class=\"dataframe\">\n",
       "  <thead>\n",
       "    <tr style=\"text-align: right;\">\n",
       "      <th></th>\n",
       "      <th>Salary</th>\n",
       "      <th>Bonus %</th>\n",
       "    </tr>\n",
       "  </thead>\n",
       "  <tbody>\n",
       "    <tr>\n",
       "      <th>0</th>\n",
       "      <td>97308.0</td>\n",
       "      <td>6.945</td>\n",
       "    </tr>\n",
       "    <tr>\n",
       "      <th>1</th>\n",
       "      <td>61933.0</td>\n",
       "      <td>NaN</td>\n",
       "    </tr>\n",
       "    <tr>\n",
       "      <th>2</th>\n",
       "      <td>130590.0</td>\n",
       "      <td>11.858</td>\n",
       "    </tr>\n",
       "    <tr>\n",
       "      <th>3</th>\n",
       "      <td>NaN</td>\n",
       "      <td>9.340</td>\n",
       "    </tr>\n",
       "    <tr>\n",
       "      <th>4</th>\n",
       "      <td>101004.0</td>\n",
       "      <td>1.389</td>\n",
       "    </tr>\n",
       "  </tbody>\n",
       "</table>\n",
       "</div>"
      ],
      "text/plain": [
       "     Salary  Bonus %\n",
       "0   97308.0    6.945\n",
       "1   61933.0      NaN\n",
       "2  130590.0   11.858\n",
       "3       NaN    9.340\n",
       "4  101004.0    1.389"
      ]
     },
     "execution_count": 53,
     "metadata": {},
     "output_type": "execute_result"
    }
   ],
   "source": [
    "employees_knn[['Salary','Bonus %']].head()"
   ]
  },
  {
   "cell_type": "code",
   "execution_count": 54,
   "id": "09e79c26",
   "metadata": {
    "scrolled": true
   },
   "outputs": [
    {
     "name": "stdout",
     "output_type": "stream",
     "text": [
      "Imputing row 1/1000 with 0 missing, elapsed time: 0.116\n",
      "Imputing row 101/1000 with 0 missing, elapsed time: 0.117\n",
      "Imputing row 201/1000 with 0 missing, elapsed time: 0.117\n",
      "Imputing row 301/1000 with 0 missing, elapsed time: 0.117\n",
      "Imputing row 401/1000 with 0 missing, elapsed time: 0.117\n",
      "Imputing row 501/1000 with 0 missing, elapsed time: 0.118\n",
      "Imputing row 601/1000 with 0 missing, elapsed time: 0.118\n",
      "Imputing row 701/1000 with 0 missing, elapsed time: 0.118\n",
      "Imputing row 801/1000 with 0 missing, elapsed time: 0.118\n",
      "Imputing row 901/1000 with 0 missing, elapsed time: 0.119\n"
     ]
    }
   ],
   "source": [
    "from fancyimpute import KNN\n",
    "knn_imputer = KNN()\n",
    "emp_sal_bon = employees_knn[['Salary','Bonus %']]\n",
    "employees_knn.iloc[:,2:4] = knn_imputer.fit_transform(emp_sal_bon)"
   ]
  },
  {
   "cell_type": "code",
   "execution_count": 55,
   "id": "3313618e",
   "metadata": {},
   "outputs": [
    {
     "data": {
      "text/html": [
       "<div>\n",
       "<style scoped>\n",
       "    .dataframe tbody tr th:only-of-type {\n",
       "        vertical-align: middle;\n",
       "    }\n",
       "\n",
       "    .dataframe tbody tr th {\n",
       "        vertical-align: top;\n",
       "    }\n",
       "\n",
       "    .dataframe thead th {\n",
       "        text-align: right;\n",
       "    }\n",
       "</style>\n",
       "<table border=\"1\" class=\"dataframe\">\n",
       "  <thead>\n",
       "    <tr style=\"text-align: right;\">\n",
       "      <th></th>\n",
       "      <th>Salary</th>\n",
       "      <th>Bonus %</th>\n",
       "    </tr>\n",
       "  </thead>\n",
       "  <tbody>\n",
       "    <tr>\n",
       "      <th>0</th>\n",
       "      <td>97308.000000</td>\n",
       "      <td>6.945000</td>\n",
       "    </tr>\n",
       "    <tr>\n",
       "      <th>1</th>\n",
       "      <td>61933.000000</td>\n",
       "      <td>8.218788</td>\n",
       "    </tr>\n",
       "    <tr>\n",
       "      <th>2</th>\n",
       "      <td>130590.000000</td>\n",
       "      <td>11.858000</td>\n",
       "    </tr>\n",
       "    <tr>\n",
       "      <th>3</th>\n",
       "      <td>90439.585034</td>\n",
       "      <td>9.340000</td>\n",
       "    </tr>\n",
       "    <tr>\n",
       "      <th>4</th>\n",
       "      <td>101004.000000</td>\n",
       "      <td>1.389000</td>\n",
       "    </tr>\n",
       "  </tbody>\n",
       "</table>\n",
       "</div>"
      ],
      "text/plain": [
       "          Salary    Bonus %\n",
       "0   97308.000000   6.945000\n",
       "1   61933.000000   8.218788\n",
       "2  130590.000000  11.858000\n",
       "3   90439.585034   9.340000\n",
       "4  101004.000000   1.389000"
      ]
     },
     "execution_count": 55,
     "metadata": {},
     "output_type": "execute_result"
    }
   ],
   "source": [
    "employees_knn[['Salary','Bonus %']].head()"
   ]
  },
  {
   "cell_type": "code",
   "execution_count": 56,
   "id": "3c1f3bf5",
   "metadata": {},
   "outputs": [
    {
     "data": {
      "text/plain": [
       "First Name            69\n",
       "Gender               148\n",
       "Salary                 0\n",
       "Bonus %                0\n",
       "Senior Management     68\n",
       "Team                  43\n",
       "dtype: int64"
      ]
     },
     "execution_count": 56,
     "metadata": {},
     "output_type": "execute_result"
    }
   ],
   "source": [
    "employees_knn.isnull().sum()"
   ]
  },
  {
   "cell_type": "markdown",
   "id": "3d199ddf",
   "metadata": {},
   "source": [
    "## On categorical columns "
   ]
  },
  {
   "cell_type": "raw",
   "id": "5d9a248c",
   "metadata": {},
   "source": [
    "The categorical values must first be converted or encoded to numeric values and then imputed.\n",
    "Conversion technique: Ordinal Encoder "
   ]
  },
  {
   "cell_type": "markdown",
   "id": "b2958bf4",
   "metadata": {},
   "source": [
    "### Step 1: Convert non-missing categorical columns to ordinal values"
   ]
  },
  {
   "cell_type": "code",
   "execution_count": 105,
   "id": "3187fe20",
   "metadata": {},
   "outputs": [],
   "source": [
    "from sklearn.preprocessing import OrdinalEncoder"
   ]
  },
  {
   "cell_type": "code",
   "execution_count": 106,
   "id": "40308371",
   "metadata": {},
   "outputs": [],
   "source": [
    "#Create dictionary for Ordinal encoders\n",
    "ordinal_enc_dict = {}\n",
    "\n",
    "#Loop over columns to encode\n",
    "for col_name in employees_knn:\n",
    "    \n",
    "    #Create ordinal encoder for the column    \n",
    "    ordinal_enc_dict[col_name] = OrdinalEncoder() #To create a unique encoder for each column and store them in the dictionary (this will help to later convert them back to their respective categories )\n",
    "    col = employees_knn[col_name]\n",
    "    \n",
    "    #Select the non-null values in the column   \n",
    "    col_not_null = col[col.notnull()]   \n",
    "    reshaped_vals = col_not_null.values.reshape(-1, 1)\n",
    "    \n",
    "    #Encode the non-null values of the column  \n",
    "    encoded_vals = ordinal_enc_dict[col_name].fit_transform(reshaped_vals)\n",
    "    \n",
    "    #Replace the values in the column with ordinal values \n",
    "    employees_knn.loc[col.notnull(), col_name] = np.squeeze(encoded_vals)\n"
   ]
  },
  {
   "cell_type": "code",
   "execution_count": 107,
   "id": "6ec095cd",
   "metadata": {},
   "outputs": [
    {
     "data": {
      "text/html": [
       "<div>\n",
       "<style scoped>\n",
       "    .dataframe tbody tr th:only-of-type {\n",
       "        vertical-align: middle;\n",
       "    }\n",
       "\n",
       "    .dataframe tbody tr th {\n",
       "        vertical-align: top;\n",
       "    }\n",
       "\n",
       "    .dataframe thead th {\n",
       "        text-align: right;\n",
       "    }\n",
       "</style>\n",
       "<table border=\"1\" class=\"dataframe\">\n",
       "  <thead>\n",
       "    <tr style=\"text-align: right;\">\n",
       "      <th></th>\n",
       "      <th>First Name</th>\n",
       "      <th>Gender</th>\n",
       "      <th>Salary</th>\n",
       "      <th>Bonus %</th>\n",
       "      <th>Senior Management</th>\n",
       "      <th>Team</th>\n",
       "    </tr>\n",
       "  </thead>\n",
       "  <tbody>\n",
       "    <tr>\n",
       "      <th>0</th>\n",
       "      <td>55.0</td>\n",
       "      <td>1.0</td>\n",
       "      <td>564.0</td>\n",
       "      <td>316.0</td>\n",
       "      <td>2.0</td>\n",
       "      <td>7.0</td>\n",
       "    </tr>\n",
       "    <tr>\n",
       "      <th>1</th>\n",
       "      <td>190.0</td>\n",
       "      <td>1.0</td>\n",
       "      <td>244.0</td>\n",
       "      <td>386.0</td>\n",
       "      <td>2.0</td>\n",
       "      <td>NaN</td>\n",
       "    </tr>\n",
       "    <tr>\n",
       "      <th>2</th>\n",
       "      <td>130.0</td>\n",
       "      <td>0.0</td>\n",
       "      <td>846.0</td>\n",
       "      <td>582.0</td>\n",
       "      <td>0.0</td>\n",
       "      <td>4.0</td>\n",
       "    </tr>\n",
       "    <tr>\n",
       "      <th>3</th>\n",
       "      <td>90.0</td>\n",
       "      <td>1.0</td>\n",
       "      <td>501.0</td>\n",
       "      <td>448.0</td>\n",
       "      <td>2.0</td>\n",
       "      <td>4.0</td>\n",
       "    </tr>\n",
       "    <tr>\n",
       "      <th>4</th>\n",
       "      <td>119.0</td>\n",
       "      <td>1.0</td>\n",
       "      <td>599.0</td>\n",
       "      <td>16.0</td>\n",
       "      <td>2.0</td>\n",
       "      <td>1.0</td>\n",
       "    </tr>\n",
       "  </tbody>\n",
       "</table>\n",
       "</div>"
      ],
      "text/plain": [
       "  First Name Gender  Salary  Bonus % Senior Management Team\n",
       "0       55.0    1.0   564.0    316.0               2.0  7.0\n",
       "1      190.0    1.0   244.0    386.0               2.0  NaN\n",
       "2      130.0    0.0   846.0    582.0               0.0  4.0\n",
       "3       90.0    1.0   501.0    448.0               2.0  4.0\n",
       "4      119.0    1.0   599.0     16.0               2.0  1.0"
      ]
     },
     "execution_count": 107,
     "metadata": {},
     "output_type": "execute_result"
    }
   ],
   "source": [
    "employees_knn.head()"
   ]
  },
  {
   "cell_type": "markdown",
   "id": "035720d6",
   "metadata": {},
   "source": [
    "### Step 2: Impute the missing values in the ordinal DataFrame"
   ]
  },
  {
   "cell_type": "code",
   "execution_count": 108,
   "id": "1e5ebd30",
   "metadata": {},
   "outputs": [
    {
     "name": "stdout",
     "output_type": "stream",
     "text": [
      "Imputing row 1/1000 with 0 missing, elapsed time: 0.131\n",
      "Imputing row 101/1000 with 0 missing, elapsed time: 0.133\n",
      "Imputing row 201/1000 with 0 missing, elapsed time: 0.134\n",
      "Imputing row 301/1000 with 0 missing, elapsed time: 0.135\n",
      "Imputing row 401/1000 with 1 missing, elapsed time: 0.136\n",
      "Imputing row 501/1000 with 0 missing, elapsed time: 0.137\n",
      "Imputing row 601/1000 with 1 missing, elapsed time: 0.137\n",
      "Imputing row 701/1000 with 0 missing, elapsed time: 0.139\n",
      "Imputing row 801/1000 with 0 missing, elapsed time: 0.140\n",
      "Imputing row 901/1000 with 0 missing, elapsed time: 0.141\n"
     ]
    }
   ],
   "source": [
    "#Impute the dataframe\n",
    "employees_knn_imputed = employees_knn.copy(deep=True)\n",
    "\n",
    "#Create KNN imputer\n",
    "KNN_imputer = KNN() \n",
    "\n",
    "#Round the values, as the imputed values need to be whole numbers not decimal\n",
    "employees_knn_imputed.iloc[:, :] = np.round(KNN_imputer.fit_transform(employees_knn_imputed))"
   ]
  },
  {
   "cell_type": "markdown",
   "id": "122cd4a9",
   "metadata": {},
   "source": [
    "### Step 3: Convert back from ordinal values to categorical values"
   ]
  },
  {
   "cell_type": "code",
   "execution_count": 109,
   "id": "3fe781e0",
   "metadata": {},
   "outputs": [],
   "source": [
    "#Convert back the ordinal values to thair labels\n",
    "for col in employees_knn_imputed:\n",
    "    reshaped_col = employees_knn_imputed[col].values.reshape(-1, 1)\n",
    "    employees_knn_imputed[col] = ordinal_enc_dict[col].inverse_transform(reshaped_col)"
   ]
  },
  {
   "cell_type": "code",
   "execution_count": 110,
   "id": "1a690a0d",
   "metadata": {},
   "outputs": [
    {
     "data": {
      "text/html": [
       "<div>\n",
       "<style scoped>\n",
       "    .dataframe tbody tr th:only-of-type {\n",
       "        vertical-align: middle;\n",
       "    }\n",
       "\n",
       "    .dataframe tbody tr th {\n",
       "        vertical-align: top;\n",
       "    }\n",
       "\n",
       "    .dataframe thead th {\n",
       "        text-align: right;\n",
       "    }\n",
       "</style>\n",
       "<table border=\"1\" class=\"dataframe\">\n",
       "  <thead>\n",
       "    <tr style=\"text-align: right;\">\n",
       "      <th></th>\n",
       "      <th>First Name</th>\n",
       "      <th>Gender</th>\n",
       "      <th>Salary</th>\n",
       "      <th>Bonus %</th>\n",
       "      <th>Senior Management</th>\n",
       "      <th>Team</th>\n",
       "    </tr>\n",
       "  </thead>\n",
       "  <tbody>\n",
       "    <tr>\n",
       "      <th>0</th>\n",
       "      <td>55.0</td>\n",
       "      <td>1.0</td>\n",
       "      <td>564.0</td>\n",
       "      <td>316.0</td>\n",
       "      <td>2.0</td>\n",
       "      <td>7.0</td>\n",
       "    </tr>\n",
       "    <tr>\n",
       "      <th>1</th>\n",
       "      <td>190.0</td>\n",
       "      <td>1.0</td>\n",
       "      <td>244.0</td>\n",
       "      <td>386.0</td>\n",
       "      <td>2.0</td>\n",
       "      <td>3.0</td>\n",
       "    </tr>\n",
       "    <tr>\n",
       "      <th>2</th>\n",
       "      <td>130.0</td>\n",
       "      <td>0.0</td>\n",
       "      <td>846.0</td>\n",
       "      <td>582.0</td>\n",
       "      <td>0.0</td>\n",
       "      <td>4.0</td>\n",
       "    </tr>\n",
       "    <tr>\n",
       "      <th>3</th>\n",
       "      <td>90.0</td>\n",
       "      <td>1.0</td>\n",
       "      <td>501.0</td>\n",
       "      <td>448.0</td>\n",
       "      <td>2.0</td>\n",
       "      <td>4.0</td>\n",
       "    </tr>\n",
       "    <tr>\n",
       "      <th>4</th>\n",
       "      <td>119.0</td>\n",
       "      <td>1.0</td>\n",
       "      <td>599.0</td>\n",
       "      <td>16.0</td>\n",
       "      <td>2.0</td>\n",
       "      <td>1.0</td>\n",
       "    </tr>\n",
       "  </tbody>\n",
       "</table>\n",
       "</div>"
      ],
      "text/plain": [
       "  First Name Gender  Salary  Bonus % Senior Management Team\n",
       "0       55.0    1.0   564.0    316.0               2.0  7.0\n",
       "1      190.0    1.0   244.0    386.0               2.0  3.0\n",
       "2      130.0    0.0   846.0    582.0               0.0  4.0\n",
       "3       90.0    1.0   501.0    448.0               2.0  4.0\n",
       "4      119.0    1.0   599.0     16.0               2.0  1.0"
      ]
     },
     "execution_count": 110,
     "metadata": {},
     "output_type": "execute_result"
    }
   ],
   "source": [
    "employees_knn_imputed.head()"
   ]
  },
  {
   "cell_type": "code",
   "execution_count": 111,
   "id": "eb5d1d9b",
   "metadata": {},
   "outputs": [
    {
     "data": {
      "text/plain": [
       "First Name           0\n",
       "Gender               0\n",
       "Salary               0\n",
       "Bonus %              0\n",
       "Senior Management    0\n",
       "Team                 0\n",
       "dtype: int64"
      ]
     },
     "execution_count": 111,
     "metadata": {},
     "output_type": "execute_result"
    }
   ],
   "source": [
    "employees_knn_imputed.isnull().sum()"
   ]
  },
  {
   "cell_type": "code",
   "execution_count": 112,
   "id": "1aaeeb00",
   "metadata": {},
   "outputs": [
    {
     "name": "stderr",
     "output_type": "stream",
     "text": [
      "C:\\Users\\Marah Baccari\\anaconda3\\lib\\site-packages\\missingno\\missingno.py:72: MatplotlibDeprecationWarning: The 'b' parameter of grid() has been renamed 'visible' since Matplotlib 3.5; support for the old name will be dropped two minor releases later.\n",
      "  ax0.grid(b=False)\n",
      "C:\\Users\\Marah Baccari\\anaconda3\\lib\\site-packages\\missingno\\missingno.py:141: MatplotlibDeprecationWarning: The 'b' parameter of grid() has been renamed 'visible' since Matplotlib 3.5; support for the old name will be dropped two minor releases later.\n",
      "  ax1.grid(b=False)\n"
     ]
    },
    {
     "data": {
      "text/plain": [
       "<AxesSubplot:>"
      ]
     },
     "execution_count": 112,
     "metadata": {},
     "output_type": "execute_result"
    },
    {
     "data": {
      "image/png": "[encoded data removed]",
      "text/plain": [
       "<Figure size 1800x720 with 2 Axes>"
      ]
     },
     "metadata": {
      "needs_background": "light"
     },
     "output_type": "display_data"
    }
   ],
   "source": [
    "msno.matrix(employees_knn_imputed)"
   ]
  },
  {
   "cell_type": "code",
   "execution_count": 113,
   "id": "e4b6a2d6",
   "metadata": {},
   "outputs": [
    {
     "data": {
      "text/plain": [
       "<AxesSubplot:>"
      ]
     },
     "execution_count": 113,
     "metadata": {},
     "output_type": "execute_result"
    },
    {
     "data": {
      "image/png": "[encoded data removed]",
      "text/plain": [
       "<Figure size 1728x720 with 3 Axes>"
      ]
     },
     "metadata": {
      "needs_background": "light"
     },
     "output_type": "display_data"
    }
   ],
   "source": [
    "msno.bar(employees_knn_imputed)"
   ]
  }
 ],
 "metadata": {
  "kernelspec": {
   "display_name": "Python 3 (ipykernel)",
   "language": "python",
   "name": "python3"
  },
  "language_info": {
   "codemirror_mode": {
    "name": "ipython",
    "version": 3
   },
   "file_extension": ".py",
   "mimetype": "text/x-python",
   "name": "python",
   "nbconvert_exporter": "python",
   "pygments_lexer": "ipython3",
   "version": "3.9.13"
  }
 },
 "nbformat": 4,
 "nbformat_minor": 5
}
